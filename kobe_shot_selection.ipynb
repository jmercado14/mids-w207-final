{
 "cells": [
  {
   "cell_type": "markdown",
   "metadata": {},
   "source": [
    "# Final Project: Kobe Bryant Shot Selection"
   ]
  },
  {
   "cell_type": "markdown",
   "metadata": {},
   "source": [
    "### Authors: April Kim, Jennifer Podracky, Shelly Hsu"
   ]
  },
  {
   "cell_type": "markdown",
   "metadata": {},
   "source": [
    "\n",
    "## Business Understanding\n",
    "\n",
    "Shot selection in basketball is a term that refers to the types of shots that an individual takes. This data is important for determining how the NBA invests in people and programs to measure and discover where on the court players shoot their best. Maximizing this probability is key to maximizing the best results while spending the minimum amount of resources. In this paper, we address the problem of predicting which of Kobe Bryant's shots will be made (or missed) using machine learning techniques utilizing the data that is provided at the level of every field goal attempted by Kobe Bryant during his 20-year career. This will provide valuable insight into what types of shots Kobe Bryant should have attempted more often to ensure the highest amount of points are scored during a game. "
   ]
  },
  {
   "cell_type": "markdown",
   "metadata": {},
   "source": [
    "## Data Understanding\n",
    "\n",
    "### Background\n",
    "The raw data sources provided are a CSV file. In this file, each of the rows represents a shot taken by Kobe Bryant over the course of the 1996-2016 seasons of his NBA career.\n",
    "\n",
    "For each shot, the following attributes are recorded:\n",
    "\n",
    "* action_type - Type of shot taken, e.g. Driving Dunk Shot\n",
    "* combined_shot_type - More general type of shot taken, e.g. Dunk Shot\n",
    "* game_event_id - Numeric id of the shot taken within the game\n",
    "* game_id - Numeric id of the game in which the shot was taken\n",
    "* lat - Latitude of the game location\n",
    "* loc_x - Lateral location on the court at which shot was taken\n",
    "* loc_y - Vertical location on the court at which shot was taken\n",
    "* lon - Longitude of the game location\n",
    "* minutes_remaining - Minutes remaining in the period in which the shot was taken\n",
    "* period - A numeric indicator of which period that the shot was taken during\n",
    "* playoffs - 0/1 flag indicating whether the game happened during the playoffs\n",
    "* season - The season in which the game occured\n",
    "* seconds_remaining - Seconds remaining for Kobe to shoot at the time the shot was taken\n",
    "* shot_distance - Distance in feet from the basket at which shot was taken\n",
    "* shot_made_flag - 0/1 flag indicating whether the shot was made or not\n",
    "* shot_type - The type of shot that was made, e.g. 2PT Field Goal\n",
    "* shot_zone_area - The court area from which the shot was taken, e.g. Center(C)\n",
    "* shot_zone_basic - The court zone from which the shot was taken, e.g. Mid-Range\n",
    "* shot_zone_range - The distance range from hich the shot was taken, e.g. 8-16 ft.\n",
    "* team_id - Numeric ID of the team Kobe was playing for; always 1610612747 (Lakers)\n",
    "* team_name - Name of the team Kobe was playing for; always the Lakers\n",
    "* game_date - Date of the game in which shot was taken\n",
    "* matchup - String indicating which two teams were playing each other\n",
    "* opponent - Name of the team Kobe was playing against\n",
    "* shot_id - Unique identifier for each shot\n",
    "\n",
    "The variable that we are trying to predict through our analysis is shot_made_flag.\n",
    "\n",
    "\n",
    "### Exploratory Data Analysis\n",
    "\n",
    "In this section, we will load the provided CSV file, examine the provided variables, and analyze their distributions."
   ]
  },
  {
   "cell_type": "code",
   "execution_count": 1,
   "metadata": {},
   "outputs": [
    {
     "name": "stderr",
     "output_type": "stream",
     "text": [
      "C:\\ProgramData\\Anaconda3\\lib\\site-packages\\sklearn\\cross_validation.py:41: DeprecationWarning: This module was deprecated in version 0.18 in favor of the model_selection module into which all the refactored classes and functions are moved. Also note that the interface of the new CV iterators are different from that of this module. This module will be removed in 0.20.\n",
      "  \"This module will be removed in 0.20.\", DeprecationWarning)\n",
      "C:\\ProgramData\\Anaconda3\\lib\\site-packages\\sklearn\\grid_search.py:42: DeprecationWarning: This module was deprecated in version 0.18 in favor of the model_selection module into which all the refactored classes and functions are moved. This module will be removed in 0.20.\n",
      "  DeprecationWarning)\n"
     ]
    }
   ],
   "source": [
    "# This tells matplotlib not to try opening a new window for each plot.\n",
    "%matplotlib inline\n",
    "\n",
    "# General libraries.\n",
    "import re\n",
    "import numpy as np\n",
    "import pandas as pd\n",
    "import matplotlib.pyplot as plt\n",
    "from datetime import datetime\n",
    "\n",
    "# SK-learn libraries for learning.\n",
    "from sklearn.pipeline import Pipeline\n",
    "from sklearn.neighbors import KNeighborsClassifier\n",
    "from sklearn.linear_model import LogisticRegression\n",
    "from sklearn.naive_bayes import BernoulliNB\n",
    "from sklearn.naive_bayes import MultinomialNB\n",
    "from sklearn.grid_search import GridSearchCV\n",
    "from sklearn.ensemble import GradientBoostingClassifier\n",
    "\n",
    "# SK-learn libraries for evaluation.\n",
    "from sklearn.metrics import confusion_matrix\n",
    "from sklearn import metrics\n",
    "from sklearn.metrics import classification_report\n",
    "\n",
    "# SK-learn libraries for feature extraction from text.\n",
    "from sklearn.feature_extraction.text import *\n",
    "\n",
    "from sklearn.decomposition import PCA\n",
    "from sklearn.cluster import KMeans\n",
    "from sklearn.mixture import GMM\n",
    "from sklearn.mixture import GaussianMixture\n",
    "from matplotlib.colors import LogNorm"
   ]
  },
  {
   "cell_type": "code",
   "execution_count": 2,
   "metadata": {},
   "outputs": [],
   "source": [
    "# force Pandas to display all columns\n",
    "pd.set_option(\"display.max_columns\", None)"
   ]
  },
  {
   "cell_type": "code",
   "execution_count": 3,
   "metadata": {},
   "outputs": [],
   "source": [
    "# read in data\n",
    "# data contains location and circumstances of every field goal attempted by Kobe\n",
    "# using this data, predict whether the basket went in (shot_made_flag)\n",
    "data = \"data.csv\"\n",
    "sample_submission = \"sample_submission.csv\"\n",
    "\n",
    "d = pd.read_csv(data)\n",
    "sample = pd.read_csv(sample_submission)"
   ]
  },
  {
   "cell_type": "code",
   "execution_count": 4,
   "metadata": {},
   "outputs": [
    {
     "data": {
      "text/html": [
       "<div>\n",
       "<style scoped>\n",
       "    .dataframe tbody tr th:only-of-type {\n",
       "        vertical-align: middle;\n",
       "    }\n",
       "\n",
       "    .dataframe tbody tr th {\n",
       "        vertical-align: top;\n",
       "    }\n",
       "\n",
       "    .dataframe thead th {\n",
       "        text-align: right;\n",
       "    }\n",
       "</style>\n",
       "<table border=\"1\" class=\"dataframe\">\n",
       "  <thead>\n",
       "    <tr style=\"text-align: right;\">\n",
       "      <th></th>\n",
       "      <th>action_type</th>\n",
       "      <th>combined_shot_type</th>\n",
       "      <th>game_event_id</th>\n",
       "      <th>game_id</th>\n",
       "      <th>lat</th>\n",
       "      <th>loc_x</th>\n",
       "      <th>loc_y</th>\n",
       "      <th>lon</th>\n",
       "      <th>minutes_remaining</th>\n",
       "      <th>period</th>\n",
       "      <th>playoffs</th>\n",
       "      <th>season</th>\n",
       "      <th>seconds_remaining</th>\n",
       "      <th>shot_distance</th>\n",
       "      <th>shot_made_flag</th>\n",
       "      <th>shot_type</th>\n",
       "      <th>shot_zone_area</th>\n",
       "      <th>shot_zone_basic</th>\n",
       "      <th>shot_zone_range</th>\n",
       "      <th>team_id</th>\n",
       "      <th>team_name</th>\n",
       "      <th>game_date</th>\n",
       "      <th>matchup</th>\n",
       "      <th>opponent</th>\n",
       "      <th>shot_id</th>\n",
       "    </tr>\n",
       "  </thead>\n",
       "  <tbody>\n",
       "    <tr>\n",
       "      <th>0</th>\n",
       "      <td>Jump Shot</td>\n",
       "      <td>Jump Shot</td>\n",
       "      <td>10</td>\n",
       "      <td>20000012</td>\n",
       "      <td>33.9723</td>\n",
       "      <td>167</td>\n",
       "      <td>72</td>\n",
       "      <td>-118.1028</td>\n",
       "      <td>10</td>\n",
       "      <td>1</td>\n",
       "      <td>0</td>\n",
       "      <td>2000-01</td>\n",
       "      <td>27</td>\n",
       "      <td>18</td>\n",
       "      <td>NaN</td>\n",
       "      <td>2PT Field Goal</td>\n",
       "      <td>Right Side(R)</td>\n",
       "      <td>Mid-Range</td>\n",
       "      <td>16-24 ft.</td>\n",
       "      <td>1610612747</td>\n",
       "      <td>Los Angeles Lakers</td>\n",
       "      <td>2000-10-31</td>\n",
       "      <td>LAL @ POR</td>\n",
       "      <td>POR</td>\n",
       "      <td>1</td>\n",
       "    </tr>\n",
       "    <tr>\n",
       "      <th>1</th>\n",
       "      <td>Jump Shot</td>\n",
       "      <td>Jump Shot</td>\n",
       "      <td>12</td>\n",
       "      <td>20000012</td>\n",
       "      <td>34.0443</td>\n",
       "      <td>-157</td>\n",
       "      <td>0</td>\n",
       "      <td>-118.4268</td>\n",
       "      <td>10</td>\n",
       "      <td>1</td>\n",
       "      <td>0</td>\n",
       "      <td>2000-01</td>\n",
       "      <td>22</td>\n",
       "      <td>15</td>\n",
       "      <td>0.0</td>\n",
       "      <td>2PT Field Goal</td>\n",
       "      <td>Left Side(L)</td>\n",
       "      <td>Mid-Range</td>\n",
       "      <td>8-16 ft.</td>\n",
       "      <td>1610612747</td>\n",
       "      <td>Los Angeles Lakers</td>\n",
       "      <td>2000-10-31</td>\n",
       "      <td>LAL @ POR</td>\n",
       "      <td>POR</td>\n",
       "      <td>2</td>\n",
       "    </tr>\n",
       "    <tr>\n",
       "      <th>2</th>\n",
       "      <td>Jump Shot</td>\n",
       "      <td>Jump Shot</td>\n",
       "      <td>35</td>\n",
       "      <td>20000012</td>\n",
       "      <td>33.9093</td>\n",
       "      <td>-101</td>\n",
       "      <td>135</td>\n",
       "      <td>-118.3708</td>\n",
       "      <td>7</td>\n",
       "      <td>1</td>\n",
       "      <td>0</td>\n",
       "      <td>2000-01</td>\n",
       "      <td>45</td>\n",
       "      <td>16</td>\n",
       "      <td>1.0</td>\n",
       "      <td>2PT Field Goal</td>\n",
       "      <td>Left Side Center(LC)</td>\n",
       "      <td>Mid-Range</td>\n",
       "      <td>16-24 ft.</td>\n",
       "      <td>1610612747</td>\n",
       "      <td>Los Angeles Lakers</td>\n",
       "      <td>2000-10-31</td>\n",
       "      <td>LAL @ POR</td>\n",
       "      <td>POR</td>\n",
       "      <td>3</td>\n",
       "    </tr>\n",
       "    <tr>\n",
       "      <th>3</th>\n",
       "      <td>Jump Shot</td>\n",
       "      <td>Jump Shot</td>\n",
       "      <td>43</td>\n",
       "      <td>20000012</td>\n",
       "      <td>33.8693</td>\n",
       "      <td>138</td>\n",
       "      <td>175</td>\n",
       "      <td>-118.1318</td>\n",
       "      <td>6</td>\n",
       "      <td>1</td>\n",
       "      <td>0</td>\n",
       "      <td>2000-01</td>\n",
       "      <td>52</td>\n",
       "      <td>22</td>\n",
       "      <td>0.0</td>\n",
       "      <td>2PT Field Goal</td>\n",
       "      <td>Right Side Center(RC)</td>\n",
       "      <td>Mid-Range</td>\n",
       "      <td>16-24 ft.</td>\n",
       "      <td>1610612747</td>\n",
       "      <td>Los Angeles Lakers</td>\n",
       "      <td>2000-10-31</td>\n",
       "      <td>LAL @ POR</td>\n",
       "      <td>POR</td>\n",
       "      <td>4</td>\n",
       "    </tr>\n",
       "    <tr>\n",
       "      <th>4</th>\n",
       "      <td>Driving Dunk Shot</td>\n",
       "      <td>Dunk</td>\n",
       "      <td>155</td>\n",
       "      <td>20000012</td>\n",
       "      <td>34.0443</td>\n",
       "      <td>0</td>\n",
       "      <td>0</td>\n",
       "      <td>-118.2698</td>\n",
       "      <td>6</td>\n",
       "      <td>2</td>\n",
       "      <td>0</td>\n",
       "      <td>2000-01</td>\n",
       "      <td>19</td>\n",
       "      <td>0</td>\n",
       "      <td>1.0</td>\n",
       "      <td>2PT Field Goal</td>\n",
       "      <td>Center(C)</td>\n",
       "      <td>Restricted Area</td>\n",
       "      <td>Less Than 8 ft.</td>\n",
       "      <td>1610612747</td>\n",
       "      <td>Los Angeles Lakers</td>\n",
       "      <td>2000-10-31</td>\n",
       "      <td>LAL @ POR</td>\n",
       "      <td>POR</td>\n",
       "      <td>5</td>\n",
       "    </tr>\n",
       "  </tbody>\n",
       "</table>\n",
       "</div>"
      ],
      "text/plain": [
       "         action_type combined_shot_type  game_event_id   game_id      lat  \\\n",
       "0          Jump Shot          Jump Shot             10  20000012  33.9723   \n",
       "1          Jump Shot          Jump Shot             12  20000012  34.0443   \n",
       "2          Jump Shot          Jump Shot             35  20000012  33.9093   \n",
       "3          Jump Shot          Jump Shot             43  20000012  33.8693   \n",
       "4  Driving Dunk Shot               Dunk            155  20000012  34.0443   \n",
       "\n",
       "   loc_x  loc_y       lon  minutes_remaining  period  playoffs   season  \\\n",
       "0    167     72 -118.1028                 10       1         0  2000-01   \n",
       "1   -157      0 -118.4268                 10       1         0  2000-01   \n",
       "2   -101    135 -118.3708                  7       1         0  2000-01   \n",
       "3    138    175 -118.1318                  6       1         0  2000-01   \n",
       "4      0      0 -118.2698                  6       2         0  2000-01   \n",
       "\n",
       "   seconds_remaining  shot_distance  shot_made_flag       shot_type  \\\n",
       "0                 27             18             NaN  2PT Field Goal   \n",
       "1                 22             15             0.0  2PT Field Goal   \n",
       "2                 45             16             1.0  2PT Field Goal   \n",
       "3                 52             22             0.0  2PT Field Goal   \n",
       "4                 19              0             1.0  2PT Field Goal   \n",
       "\n",
       "          shot_zone_area  shot_zone_basic  shot_zone_range     team_id  \\\n",
       "0          Right Side(R)        Mid-Range        16-24 ft.  1610612747   \n",
       "1           Left Side(L)        Mid-Range         8-16 ft.  1610612747   \n",
       "2   Left Side Center(LC)        Mid-Range        16-24 ft.  1610612747   \n",
       "3  Right Side Center(RC)        Mid-Range        16-24 ft.  1610612747   \n",
       "4              Center(C)  Restricted Area  Less Than 8 ft.  1610612747   \n",
       "\n",
       "            team_name   game_date    matchup opponent  shot_id  \n",
       "0  Los Angeles Lakers  2000-10-31  LAL @ POR      POR        1  \n",
       "1  Los Angeles Lakers  2000-10-31  LAL @ POR      POR        2  \n",
       "2  Los Angeles Lakers  2000-10-31  LAL @ POR      POR        3  \n",
       "3  Los Angeles Lakers  2000-10-31  LAL @ POR      POR        4  \n",
       "4  Los Angeles Lakers  2000-10-31  LAL @ POR      POR        5  "
      ]
     },
     "execution_count": 4,
     "metadata": {},
     "output_type": "execute_result"
    }
   ],
   "source": [
    "# examine data\n",
    "d.head(5)"
   ]
  },
  {
   "cell_type": "markdown",
   "metadata": {},
   "source": [
    "The provided data includes 24 explanatory variables and one dependent variable.\n",
    "\n",
    "We look at some of the interesting variables.  \n",
    "\n",
    "**Interesting variables:**  \n",
    "    action_type  \n",
    "    combined_shot_type  \n",
    "    court location (loc_x and loc_y)\n",
    "    minutes_remaining + seconds_remaining  \n",
    "    period  \n",
    "    playoffs  \n",
    "    season  \n",
    "    shot_distance  \n",
    "    shot_type  \n",
    "    shot_zone_area  \n",
    "    shot_zone_basic  \n",
    "    shot_zone_range  \n",
    "    opponent\n",
    "    game_date"
   ]
  },
  {
   "cell_type": "code",
   "execution_count": 5,
   "metadata": {},
   "outputs": [],
   "source": [
    "d1 = d[[\"shot_made_flag\", \"action_type\", \"combined_shot_type\", \"loc_x\", \"loc_y\", \"minutes_remaining\", \"seconds_remaining\", \"period\", \"playoffs\", \"season\", \"shot_distance\", \"shot_type\", \"shot_zone_area\", \"shot_zone_basic\", \"shot_zone_range\", \"opponent\", \"game_date\"]]"
   ]
  },
  {
   "cell_type": "markdown",
   "metadata": {},
   "source": [
    "#### Action type"
   ]
  },
  {
   "cell_type": "code",
   "execution_count": 6,
   "metadata": {},
   "outputs": [
    {
     "data": {
      "text/plain": [
       "57"
      ]
     },
     "execution_count": 6,
     "metadata": {},
     "output_type": "execute_result"
    }
   ],
   "source": [
    "# number of different action types\n",
    "len(d1[\"action_type\"].unique())"
   ]
  },
  {
   "cell_type": "code",
   "execution_count": 7,
   "metadata": {},
   "outputs": [
    {
     "data": {
      "text/plain": [
       "Jump Shot                   18880\n",
       "Layup Shot                   2567\n",
       "Driving Layup Shot           1978\n",
       "Turnaround Jump Shot         1057\n",
       "Fadeaway Jump Shot           1048\n",
       "Running Jump Shot             926\n",
       "Pullup Jump shot              476\n",
       "Turnaround Fadeaway shot      439\n",
       "Slam Dunk Shot                411\n",
       "Reverse Layup Shot            395\n",
       "Name: action_type, dtype: int64"
      ]
     },
     "execution_count": 7,
     "metadata": {},
     "output_type": "execute_result"
    }
   ],
   "source": [
    "d1[\"action_type\"].value_counts().head(10)"
   ]
  },
  {
   "cell_type": "code",
   "execution_count": 8,
   "metadata": {},
   "outputs": [
    {
     "data": {
      "text/plain": [
       "Running Pull-Up Jump Shot             4\n",
       "Running Finger Roll Shot              4\n",
       "Turnaround Finger Roll Shot           2\n",
       "Tip Layup Shot                        2\n",
       "Running Tip Shot                      2\n",
       "Putback Slam Dunk Shot                2\n",
       "Driving Floating Bank Jump Shot       1\n",
       "Turnaround Fadeaway Bank Jump Shot    1\n",
       "Running Slam Dunk Shot                1\n",
       "Cutting Finger Roll Layup Shot        1\n",
       "Name: action_type, dtype: int64"
      ]
     },
     "execution_count": 8,
     "metadata": {},
     "output_type": "execute_result"
    }
   ],
   "source": [
    "d1[\"action_type\"].value_counts().tail(10)"
   ]
  },
  {
   "cell_type": "code",
   "execution_count": 9,
   "metadata": {},
   "outputs": [
    {
     "data": {
      "image/png": "[encoded data removed]",
      "text/plain": [
       "<matplotlib.figure.Figure at 0x1a089b2e470>"
      ]
     },
     "metadata": {},
     "output_type": "display_data"
    }
   ],
   "source": [
    "# bar plot of counts of different action types\n",
    "d1[\"shot_made_flag\"].groupby(d1[\"action_type\"]).mean().sort_values().plot.bar(figsize=(12,5)).set_title(\"% Shots Made, by Action Type\")\n",
    "plt.show()"
   ]
  },
  {
   "cell_type": "markdown",
   "metadata": {},
   "source": [
    "We observe that there are many values of action types with very low counts, which makes it difficult to compare them. To mitigate this, we group all action_type values with fewer than 20 occurrances as \"Other Shot\"."
   ]
  },
  {
   "cell_type": "code",
   "execution_count": 10,
   "metadata": {},
   "outputs": [
    {
     "name": "stderr",
     "output_type": "stream",
     "text": [
      "C:\\ProgramData\\Anaconda3\\lib\\site-packages\\pandas\\core\\indexing.py:537: SettingWithCopyWarning: \n",
      "A value is trying to be set on a copy of a slice from a DataFrame.\n",
      "Try using .loc[row_indexer,col_indexer] = value instead\n",
      "\n",
      "See the caveats in the documentation: http://pandas.pydata.org/pandas-docs/stable/indexing.html#indexing-view-versus-copy\n",
      "  self.obj[item] = s\n"
     ]
    }
   ],
   "source": [
    "action_type_counts = d1[\"action_type\"].value_counts()\n",
    "d1.loc[d1[\"action_type\"].isin(action_type_counts.index[action_type_counts<20]), 'action_type'] = \"Other Shot\""
   ]
  },
  {
   "cell_type": "code",
   "execution_count": 11,
   "metadata": {},
   "outputs": [
    {
     "data": {
      "text/plain": [
       "34"
      ]
     },
     "execution_count": 11,
     "metadata": {},
     "output_type": "execute_result"
    }
   ],
   "source": [
    "# fewer action types compared to original 57\n",
    "len(d1[\"action_type\"].unique())"
   ]
  },
  {
   "cell_type": "markdown",
   "metadata": {},
   "source": [
    "We can then analyze the average made percentage for each action type."
   ]
  },
  {
   "cell_type": "code",
   "execution_count": 12,
   "metadata": {
    "scrolled": true
   },
   "outputs": [
    {
     "data": {
      "image/png": "[encoded data removed]",
      "text/plain": [
       "<matplotlib.figure.Figure at 0x1a08bbb6eb8>"
      ]
     },
     "metadata": {},
     "output_type": "display_data"
    }
   ],
   "source": [
    "# sorted by least accurate action type to most accurate\n",
    "d1[\"shot_made_flag\"].groupby(d1[\"action_type\"]).mean().sort_values().plot.bar(figsize=(12,5)).set_title(\"% Shots Made, by Action Type\")\n",
    "plt.show()"
   ]
  },
  {
   "cell_type": "markdown",
   "metadata": {
    "collapsed": true
   },
   "source": [
    "We observe that there does seem to be a correlation between shot_made_flag and action_type, in that certain types of shots are successfully made more often than other types of shots."
   ]
  },
  {
   "cell_type": "markdown",
   "metadata": {},
   "source": [
    "#### Combined shot type"
   ]
  },
  {
   "cell_type": "code",
   "execution_count": 13,
   "metadata": {},
   "outputs": [
    {
     "data": {
      "text/plain": [
       "6"
      ]
     },
     "execution_count": 13,
     "metadata": {},
     "output_type": "execute_result"
    }
   ],
   "source": [
    "# number of different combined shot types\n",
    "len(d1[\"combined_shot_type\"].unique())"
   ]
  },
  {
   "cell_type": "code",
   "execution_count": 14,
   "metadata": {},
   "outputs": [
    {
     "data": {
      "text/plain": [
       "Jump Shot    23485\n",
       "Layup         5448\n",
       "Dunk          1286\n",
       "Tip Shot       184\n",
       "Hook Shot      153\n",
       "Bank Shot      141\n",
       "Name: combined_shot_type, dtype: int64"
      ]
     },
     "execution_count": 14,
     "metadata": {},
     "output_type": "execute_result"
    }
   ],
   "source": [
    "d1[\"combined_shot_type\"].value_counts()"
   ]
  },
  {
   "cell_type": "code",
   "execution_count": 15,
   "metadata": {},
   "outputs": [
    {
     "data": {
      "image/png": "[encoded data removed]",
      "text/plain": [
       "<matplotlib.figure.Figure at 0x1a08bd937f0>"
      ]
     },
     "metadata": {},
     "output_type": "display_data"
    }
   ],
   "source": [
    "# we look at how many shots were made on average of each combined shot type\n",
    "# sorted by least accurate action type to most accurate\n",
    "d1[\"shot_made_flag\"].groupby(d1[\"combined_shot_type\"]).mean().sort_values().plot.bar(figsize=(12,5)).set_title(\"% Shots Made, by Combined Shot Type\")\n",
    "plt.show()"
   ]
  },
  {
   "cell_type": "markdown",
   "metadata": {
    "collapsed": true
   },
   "source": [
    "Similar to action_type, we observe some correlation between shot_made_flag and combined_shot_type. This makes intuitive sense, as combined_shot_type is a summarized form of action_type. Specifically, Kobe made Dunk and Bank Shots more frequently than Tip Shots or Jump Shots."
   ]
  },
  {
   "cell_type": "markdown",
   "metadata": {},
   "source": [
    "#### Loc x and loc y"
   ]
  },
  {
   "cell_type": "markdown",
   "metadata": {},
   "source": [
    "We can visualize the locations on the court where shots were made or not made using loc_x and loc_y. In the below plots, made shots are red and missed shots are blue."
   ]
  },
  {
   "cell_type": "code",
   "execution_count": 16,
   "metadata": {},
   "outputs": [
    {
     "name": "stderr",
     "output_type": "stream",
     "text": [
      "C:\\ProgramData\\Anaconda3\\lib\\site-packages\\matplotlib\\colors.py:489: RuntimeWarning: invalid value encountered in less\n",
      "  np.copyto(xa, -1, where=xa < 0.0)\n"
     ]
    },
    {
     "data": {
      "text/plain": [
       "<matplotlib.figure.Figure at 0x1a08aefb898>"
      ]
     },
     "metadata": {},
     "output_type": "display_data"
    },
    {
     "data": {
      "image/png": "[encoded data removed]",
      "text/plain": [
       "<matplotlib.figure.Figure at 0x1a08bb8bf98>"
      ]
     },
     "metadata": {},
     "output_type": "display_data"
    }
   ],
   "source": [
    "# loc_x = left-right along the endline with 0 centered at the basket)\n",
    "# loc_y  = positive towards halfcourt with 0 being the basket)\n",
    "cmap = plt.cm.get_cmap('bwr')\n",
    "plt.figure(figsize=(7,5))\n",
    "d1.plot(x=\"loc_x\", y=\"loc_y\", kind='scatter', c = d1[\"shot_made_flag\"].map(cmap), alpha=0.8).set_title(\"Shots missed and made based on x and y loc\")\n",
    "plt.show()"
   ]
  },
  {
   "cell_type": "code",
   "execution_count": 17,
   "metadata": {},
   "outputs": [
    {
     "data": {
      "image/png": "[encoded data removed]",
      "text/plain": [
       "<matplotlib.figure.Figure at 0x1a08bc27cc0>"
      ]
     },
     "metadata": {},
     "output_type": "display_data"
    }
   ],
   "source": [
    "plt.figure(figsize=(14,5))\n",
    "plt.subplot(1,2,1)\n",
    "plt.scatter(d1[\"loc_x\"][d1['shot_made_flag']==0], d1[\"loc_y\"][d1['shot_made_flag']==0], c = 'b', alpha=0.8)\n",
    "plt.xlabel(\"loc_x\")\n",
    "plt.ylabel(\"loc_y\")\n",
    "plt.title(\"Shots missed based on x and y loc\")\n",
    "plt.subplot(1,2,2)\n",
    "plt.scatter(d1[\"loc_x\"][d1['shot_made_flag']==1], d1[\"loc_y\"][d1['shot_made_flag']==1], c = 'r', alpha=0.8)\n",
    "plt.ylim(ymax=800)\n",
    "plt.xlabel(\"loc_x\")\n",
    "plt.ylabel(\"loc_y\")\n",
    "plt.title(\"Shots made based on x and y loc\")\n",
    "plt.show()"
   ]
  },
  {
   "cell_type": "markdown",
   "metadata": {},
   "source": [
    "We observe that location does impact likelihood of making a shot. We can derive a new feature, loc_cluster, by clustering the shot locations into 10 groups using GM modeling."
   ]
  },
  {
   "cell_type": "code",
   "execution_count": 18,
   "metadata": {
    "scrolled": true
   },
   "outputs": [
    {
     "name": "stderr",
     "output_type": "stream",
     "text": [
      "C:\\ProgramData\\Anaconda3\\lib\\site-packages\\pandas\\core\\indexing.py:357: SettingWithCopyWarning: \n",
      "A value is trying to be set on a copy of a slice from a DataFrame.\n",
      "Try using .loc[row_indexer,col_indexer] = value instead\n",
      "\n",
      "See the caveats in the documentation: http://pandas.pydata.org/pandas-docs/stable/indexing.html#indexing-view-versus-copy\n",
      "  self.obj[key] = _infer_fill_value(value)\n",
      "C:\\ProgramData\\Anaconda3\\lib\\site-packages\\pandas\\core\\indexing.py:537: SettingWithCopyWarning: \n",
      "A value is trying to be set on a copy of a slice from a DataFrame.\n",
      "Try using .loc[row_indexer,col_indexer] = value instead\n",
      "\n",
      "See the caveats in the documentation: http://pandas.pydata.org/pandas-docs/stable/indexing.html#indexing-view-versus-copy\n",
      "  self.obj[item] = s\n"
     ]
    },
    {
     "data": {
      "text/plain": [
       "Text(0.5,1,'Location Clusters')"
      ]
     },
     "execution_count": 18,
     "metadata": {},
     "output_type": "execute_result"
    },
    {
     "data": {
      "image/png": "[encoded data removed]",
      "text/plain": [
       "<matplotlib.figure.Figure at 0x1a08bc59198>"
      ]
     },
     "metadata": {},
     "output_type": "display_data"
    }
   ],
   "source": [
    "## location matters especially when Kobe is far from the basket\n",
    "# group coordinates into clusters using GMM\n",
    "loc_x_y = GaussianMixture(n_components=10, covariance_type=\"full\")\n",
    "loc_x_y.fit(d1.loc[:,(\"loc_x\", \"loc_y\")])\n",
    "d1.loc[:,\"loc_cluster\"] = loc_x_y.predict(d1.loc[:,(\"loc_x\", \"loc_y\")])\n",
    "d1.plot(x=\"loc_x\", y=\"loc_y\", kind='scatter', c = d1[\"loc_cluster\"], alpha=0.8).set_title(\"Location Clusters\")"
   ]
  },
  {
   "cell_type": "markdown",
   "metadata": {},
   "source": [
    "There does appear to be a relationship between court location and shot_made_flag. Specifically, shots taken farther from the basket are less likely to make it in than closer shots."
   ]
  },
  {
   "cell_type": "markdown",
   "metadata": {},
   "source": [
    "#### Minutes remaining + seconds remaining"
   ]
  },
  {
   "cell_type": "markdown",
   "metadata": {},
   "source": [
    "We combined minutes_remaining and seconds_remaining to get the total time remaining in the current period."
   ]
  },
  {
   "cell_type": "code",
   "execution_count": 19,
   "metadata": {},
   "outputs": [
    {
     "name": "stderr",
     "output_type": "stream",
     "text": [
      "C:\\ProgramData\\Anaconda3\\lib\\site-packages\\pandas\\core\\indexing.py:357: SettingWithCopyWarning: \n",
      "A value is trying to be set on a copy of a slice from a DataFrame.\n",
      "Try using .loc[row_indexer,col_indexer] = value instead\n",
      "\n",
      "See the caveats in the documentation: http://pandas.pydata.org/pandas-docs/stable/indexing.html#indexing-view-versus-copy\n",
      "  self.obj[key] = _infer_fill_value(value)\n",
      "C:\\ProgramData\\Anaconda3\\lib\\site-packages\\pandas\\core\\indexing.py:537: SettingWithCopyWarning: \n",
      "A value is trying to be set on a copy of a slice from a DataFrame.\n",
      "Try using .loc[row_indexer,col_indexer] = value instead\n",
      "\n",
      "See the caveats in the documentation: http://pandas.pydata.org/pandas-docs/stable/indexing.html#indexing-view-versus-copy\n",
      "  self.obj[item] = s\n"
     ]
    }
   ],
   "source": [
    "# combine two time variables as total seconds\n",
    "d1.loc[:,\"time_remaining\"] = (d1.loc[:,\"minutes_remaining\"]*60) + d1.loc[:,\"seconds_remaining\"]"
   ]
  },
  {
   "cell_type": "code",
   "execution_count": 20,
   "metadata": {},
   "outputs": [
    {
     "data": {
      "image/png": "[encoded data removed]",
      "text/plain": [
       "<matplotlib.figure.Figure at 0x1a08bda0438>"
      ]
     },
     "metadata": {},
     "output_type": "display_data"
    }
   ],
   "source": [
    "# we look at how many shots were made with how many seconds remaining in the game\n",
    "# sorted by least accurate action type to most accurate\n",
    "plt.figure(figsize=(14,5))\n",
    "plt.subplot(1,2,1)\n",
    "plt.hist(d1[\"time_remaining\"][d1['shot_made_flag']==0], bins = 50, color = 'b', alpha=0.8)\n",
    "plt.ylim(ymax=800)\n",
    "plt.xlabel(\"Seconds remaining\")\n",
    "plt.ylabel(\"# of shots\")\n",
    "plt.title(\"Shots missed\")\n",
    "plt.subplot(1,2,2)\n",
    "plt.hist(d1[\"time_remaining\"][d1['shot_made_flag']==1], bins = 50, color = 'r', alpha=0.8)\n",
    "plt.ylim(ymax=800)\n",
    "plt.xlabel(\"Seconds remaining\")\n",
    "plt.ylabel(\"# of shots\")\n",
    "plt.title(\"Shots made\")\n",
    "plt.show()"
   ]
  },
  {
   "cell_type": "markdown",
   "metadata": {
    "collapsed": true
   },
   "source": [
    "There appears to be a correlation between time remaining and whether or not the basket is made, _especially_ when the time remaining is very small (< 30 seconds).\n",
    "\n",
    "We can create a new boolean variable to indicate whether or not the shot was taken in the last 3 seconds of the period."
   ]
  },
  {
   "cell_type": "code",
   "execution_count": 21,
   "metadata": {},
   "outputs": [
    {
     "name": "stderr",
     "output_type": "stream",
     "text": [
      "C:\\ProgramData\\Anaconda3\\lib\\site-packages\\pandas\\core\\indexing.py:357: SettingWithCopyWarning: \n",
      "A value is trying to be set on a copy of a slice from a DataFrame.\n",
      "Try using .loc[row_indexer,col_indexer] = value instead\n",
      "\n",
      "See the caveats in the documentation: http://pandas.pydata.org/pandas-docs/stable/indexing.html#indexing-view-versus-copy\n",
      "  self.obj[key] = _infer_fill_value(value)\n",
      "C:\\ProgramData\\Anaconda3\\lib\\site-packages\\pandas\\core\\indexing.py:537: SettingWithCopyWarning: \n",
      "A value is trying to be set on a copy of a slice from a DataFrame.\n",
      "Try using .loc[row_indexer,col_indexer] = value instead\n",
      "\n",
      "See the caveats in the documentation: http://pandas.pydata.org/pandas-docs/stable/indexing.html#indexing-view-versus-copy\n",
      "  self.obj[item] = s\n"
     ]
    },
    {
     "data": {
      "text/plain": [
       "Text(0.5,1,'% Shots Made, if made in last 30 seconds')"
      ]
     },
     "execution_count": 21,
     "metadata": {},
     "output_type": "execute_result"
    },
    {
     "data": {
      "image/png": "[encoded data removed]",
      "text/plain": [
       "<matplotlib.figure.Figure at 0x1a08bda6748>"
      ]
     },
     "metadata": {},
     "output_type": "display_data"
    }
   ],
   "source": [
    "d1.loc[:,'made_in_last_30'] = d1.loc[:,'time_remaining']<=30\n",
    "d1[\"shot_made_flag\"].groupby(d1[\"made_in_last_30\"]).mean().sort_values().plot.bar(figsize=(12,5)).set_title(\"% Shots Made, if made in last 30 seconds\")"
   ]
  },
  {
   "cell_type": "markdown",
   "metadata": {},
   "source": [
    "#### Playoffs"
   ]
  },
  {
   "cell_type": "code",
   "execution_count": 22,
   "metadata": {},
   "outputs": [
    {
     "data": {
      "text/plain": [
       "Text(0.5,1,'% Shots Made, by Game Playoffs Status')"
      ]
     },
     "execution_count": 22,
     "metadata": {},
     "output_type": "execute_result"
    },
    {
     "data": {
      "image/png": "[encoded data removed]",
      "text/plain": [
       "<matplotlib.figure.Figure at 0x1a08af03048>"
      ]
     },
     "metadata": {},
     "output_type": "display_data"
    }
   ],
   "source": [
    "d1[\"shot_made_flag\"].groupby(d1[\"playoffs\"]).mean().sort_values().plot.bar(figsize=(12,5)).set_title(\"% Shots Made, by Game Playoffs Status\")\n"
   ]
  },
  {
   "cell_type": "markdown",
   "metadata": {},
   "source": [
    "There does not appear to be any correlation between shot_made_flag and playoffs."
   ]
  },
  {
   "cell_type": "markdown",
   "metadata": {},
   "source": [
    "#### Period"
   ]
  },
  {
   "cell_type": "code",
   "execution_count": 23,
   "metadata": {},
   "outputs": [
    {
     "data": {
      "text/plain": [
       "7       7\n",
       "6      38\n",
       "5     330\n",
       "2    6718\n",
       "4    7260\n",
       "1    8048\n",
       "3    8296\n",
       "Name: period, dtype: int64"
      ]
     },
     "execution_count": 23,
     "metadata": {},
     "output_type": "execute_result"
    }
   ],
   "source": [
    "d1[\"period\"].value_counts().sort_values()"
   ]
  },
  {
   "cell_type": "markdown",
   "metadata": {
    "collapsed": true
   },
   "source": [
    "Basketball games are played on four quarters/periods but we see that the data has records up to the 7th period.\n",
    "\n",
    "We can assume that periods 5-7 are overtime periods, which last about half the time of regular periods. It also makes sense that there are significantly fewer shots taken in periods 5-7 above. "
   ]
  },
  {
   "cell_type": "code",
   "execution_count": 24,
   "metadata": {},
   "outputs": [
    {
     "data": {
      "image/png": "[encoded data removed]",
      "text/plain": [
       "<matplotlib.figure.Figure at 0x1a08bc63f28>"
      ]
     },
     "metadata": {},
     "output_type": "display_data"
    }
   ],
   "source": [
    "d1[\"shot_made_flag\"].groupby(d1[\"period\"]).mean().plot.bar(figsize=(12,5)).set_title(\"% Shots Made, by Period\")\n",
    "plt.show()"
   ]
  },
  {
   "cell_type": "markdown",
   "metadata": {},
   "source": [
    "There does not appear to be a relationship between period and shot_made_flag."
   ]
  },
  {
   "cell_type": "markdown",
   "metadata": {},
   "source": [
    "#### Season"
   ]
  },
  {
   "cell_type": "code",
   "execution_count": 25,
   "metadata": {},
   "outputs": [
    {
     "data": {
      "image/png": "[encoded data removed]",
      "text/plain": [
       "<matplotlib.figure.Figure at 0x1a08c568be0>"
      ]
     },
     "metadata": {},
     "output_type": "display_data"
    }
   ],
   "source": [
    "# we look at how many shots were made on average during each season Kobe played\n",
    "d1[\"shot_made_flag\"].groupby(d1[\"season\"]).mean().plot.bar(figsize=(12,5)).set_title(\"% Shots Made, by Season\")\n",
    "plt.show()\n"
   ]
  },
  {
   "cell_type": "markdown",
   "metadata": {
    "collapsed": true
   },
   "source": [
    "We see a gradual decrease in average baskets made per season towards the last few years before his retirement. Kobe has previously said in interviews that 2012-13 season was his greatest and the season that marked the beginning of the end of his career, which is represented correctly in the plot above. Prior to that, Kobe was quite consistent throughout his career."
   ]
  },
  {
   "cell_type": "markdown",
   "metadata": {},
   "source": [
    "#### Shot distance"
   ]
  },
  {
   "cell_type": "code",
   "execution_count": 26,
   "metadata": {},
   "outputs": [
    {
     "data": {
      "image/png": "[encoded data removed]",
      "text/plain": [
       "<matplotlib.figure.Figure at 0x1a08c55f128>"
      ]
     },
     "metadata": {},
     "output_type": "display_data"
    }
   ],
   "source": [
    "# we look at how many shots were made on average at different distance\n",
    "d1[\"shot_made_flag\"].groupby(d1[\"shot_distance\"]).mean().plot.bar(figsize=(12,5)).set_title(\"% Shots Made, by Shot Distance\")\n",
    "plt.show()\n"
   ]
  },
  {
   "cell_type": "code",
   "execution_count": 27,
   "metadata": {
    "scrolled": true
   },
   "outputs": [
    {
     "data": {
      "image/png": "[encoded data removed]",
      "text/plain": [
       "<matplotlib.figure.Figure at 0x1a08b7aa198>"
      ]
     },
     "metadata": {},
     "output_type": "display_data"
    }
   ],
   "source": [
    "# we also look at how many shots were made from differnet distances from the net\n",
    "# sorted by least accurate action type to most accurate\n",
    "plt.figure(figsize=(14,5))\n",
    "plt.subplot(1,2,1)\n",
    "plt.hist(d1[\"shot_distance\"][d1['shot_made_flag']==0], bins = 30, color = 'b', alpha=0.8)\n",
    "plt.ylim(ymax=3000)\n",
    "plt.xlabel(\"Shot distance\")\n",
    "plt.ylabel(\"# of shots\")\n",
    "plt.title(\"Shots missed\")\n",
    "plt.subplot(1,2,2)\n",
    "plt.hist(d1[\"shot_distance\"][d1['shot_made_flag']==1], bins = 30, color = 'r', alpha=0.8)\n",
    "plt.ylim(ymax=3000)\n",
    "plt.xlabel(\"Shot distance\")\n",
    "plt.ylabel(\"# of shots\")\n",
    "plt.title(\"Shots made\")\n",
    "plt.show()"
   ]
  },
  {
   "cell_type": "markdown",
   "metadata": {},
   "source": [
    "In general, shots made and shots missed appear to follow a similar distribution. However, smaller shot distances generally correlate with a higher shot made percentage."
   ]
  },
  {
   "cell_type": "markdown",
   "metadata": {},
   "source": [
    "#### Shot zone area"
   ]
  },
  {
   "cell_type": "code",
   "execution_count": 28,
   "metadata": {},
   "outputs": [
    {
     "data": {
      "text/plain": [
       "6"
      ]
     },
     "execution_count": 28,
     "metadata": {},
     "output_type": "execute_result"
    }
   ],
   "source": [
    "# number of different combined shot types\n",
    "len(d1[\"shot_zone_area\"].unique())"
   ]
  },
  {
   "cell_type": "code",
   "execution_count": 29,
   "metadata": {},
   "outputs": [
    {
     "data": {
      "image/png": "[encoded data removed]",
      "text/plain": [
       "<matplotlib.figure.Figure at 0x1a08b7b6940>"
      ]
     },
     "metadata": {},
     "output_type": "display_data"
    }
   ],
   "source": [
    "d1[\"shot_made_flag\"].groupby(d1[\"shot_zone_area\"]).mean().plot.bar(figsize=(12,5)).set_title(\"% Shots Made, by Shot Zone Area\")\n",
    "plt.show()"
   ]
  },
  {
   "cell_type": "markdown",
   "metadata": {
    "collapsed": true
   },
   "source": [
    "We observe a correlation between shot_made_flag and shot_zone_area. Specifically, Kobe was historically much less likely to make a shot from the Back Court than from the other shot zone areas."
   ]
  },
  {
   "cell_type": "markdown",
   "metadata": {},
   "source": [
    "#### Shot zone basic"
   ]
  },
  {
   "cell_type": "code",
   "execution_count": 30,
   "metadata": {},
   "outputs": [
    {
     "data": {
      "image/png": "[encoded data removed]",
      "text/plain": [
       "<matplotlib.figure.Figure at 0x1a08be1b240>"
      ]
     },
     "metadata": {},
     "output_type": "display_data"
    }
   ],
   "source": [
    "d1[\"shot_made_flag\"].groupby(d1[\"shot_zone_basic\"]).mean().plot.bar(figsize=(12,5)).set_title(\"% Shots Made, by Shot Zone Basic\")\n",
    "plt.show()"
   ]
  },
  {
   "cell_type": "markdown",
   "metadata": {
    "collapsed": true
   },
   "source": [
    "Again, we observe a correlation between shot_made_flag and shot_zone_basic. This variable is very similar to shot_zone_area. Specifically, Kobe was historically much less likely to make a shot from the Back Court than from the other shot zone areas."
   ]
  },
  {
   "cell_type": "markdown",
   "metadata": {},
   "source": [
    "#### Shot zone range"
   ]
  },
  {
   "cell_type": "code",
   "execution_count": 31,
   "metadata": {},
   "outputs": [
    {
     "data": {
      "image/png": "[encoded data removed]",
      "text/plain": [
       "<matplotlib.figure.Figure at 0x1a08b7eac18>"
      ]
     },
     "metadata": {},
     "output_type": "display_data"
    }
   ],
   "source": [
    "## bar plot of counts of different combined shot types \n",
    "d1[\"shot_made_flag\"].groupby(d1[\"shot_zone_range\"]).mean().plot.bar(figsize=(12,5)).set_title(\"% Shots Made, by Shot Zone Range\")\n",
    "plt.show()"
   ]
  },
  {
   "cell_type": "markdown",
   "metadata": {
    "collapsed": true
   },
   "source": [
    "We again observe correlation between shot_made_flag and shot_zone_range, which is a bucketed version of the shot_distance variable. We again see that shots made closer to the basket are more likely to be made."
   ]
  },
  {
   "cell_type": "markdown",
   "metadata": {},
   "source": [
    "#### Opponent"
   ]
  },
  {
   "cell_type": "code",
   "execution_count": 32,
   "metadata": {
    "scrolled": true
   },
   "outputs": [
    {
     "data": {
      "image/png": "[encoded data removed]",
      "text/plain": [
       "<matplotlib.figure.Figure at 0x1a08beb4a90>"
      ]
     },
     "metadata": {},
     "output_type": "display_data"
    }
   ],
   "source": [
    "## bar plot of counts of different opponents\n",
    "d1[\"shot_made_flag\"].groupby(d1[\"opponent\"]).mean().plot.bar(figsize=(12,5)).set_title(\"% Shots Made, by Opponent\")\n",
    "plt.show()"
   ]
  },
  {
   "cell_type": "markdown",
   "metadata": {
    "collapsed": true
   },
   "source": [
    "We do not observe a strong correlation between shot_made_flag and shot_zone_range."
   ]
  },
  {
   "cell_type": "markdown",
   "metadata": {},
   "source": [
    "#### Game Date\n",
    "\n",
    "From game_date, we can derive a couple of additional features:\n",
    "* Weekday (Monday, Tuesday, etc)\n",
    "* Month"
   ]
  },
  {
   "cell_type": "code",
   "execution_count": 33,
   "metadata": {},
   "outputs": [
    {
     "name": "stderr",
     "output_type": "stream",
     "text": [
      "C:\\ProgramData\\Anaconda3\\lib\\site-packages\\ipykernel_launcher.py:8: SettingWithCopyWarning: \n",
      "A value is trying to be set on a copy of a slice from a DataFrame.\n",
      "Try using .loc[row_indexer,col_indexer] = value instead\n",
      "\n",
      "See the caveats in the documentation: http://pandas.pydata.org/pandas-docs/stable/indexing.html#indexing-view-versus-copy\n",
      "  \n"
     ]
    },
    {
     "data": {
      "text/html": [
       "<div>\n",
       "<style scoped>\n",
       "    .dataframe tbody tr th:only-of-type {\n",
       "        vertical-align: middle;\n",
       "    }\n",
       "\n",
       "    .dataframe tbody tr th {\n",
       "        vertical-align: top;\n",
       "    }\n",
       "\n",
       "    .dataframe thead th {\n",
       "        text-align: right;\n",
       "    }\n",
       "</style>\n",
       "<table border=\"1\" class=\"dataframe\">\n",
       "  <thead>\n",
       "    <tr style=\"text-align: right;\">\n",
       "      <th></th>\n",
       "      <th>shot_made_flag</th>\n",
       "      <th>action_type</th>\n",
       "      <th>combined_shot_type</th>\n",
       "      <th>loc_x</th>\n",
       "      <th>loc_y</th>\n",
       "      <th>minutes_remaining</th>\n",
       "      <th>seconds_remaining</th>\n",
       "      <th>period</th>\n",
       "      <th>playoffs</th>\n",
       "      <th>season</th>\n",
       "      <th>shot_distance</th>\n",
       "      <th>shot_type</th>\n",
       "      <th>shot_zone_area</th>\n",
       "      <th>shot_zone_basic</th>\n",
       "      <th>shot_zone_range</th>\n",
       "      <th>opponent</th>\n",
       "      <th>game_date</th>\n",
       "      <th>loc_cluster</th>\n",
       "      <th>time_remaining</th>\n",
       "      <th>made_in_last_30</th>\n",
       "      <th>game_weekday</th>\n",
       "      <th>game_month</th>\n",
       "    </tr>\n",
       "  </thead>\n",
       "  <tbody>\n",
       "    <tr>\n",
       "      <th>0</th>\n",
       "      <td>NaN</td>\n",
       "      <td>Jump Shot</td>\n",
       "      <td>Jump Shot</td>\n",
       "      <td>167</td>\n",
       "      <td>72</td>\n",
       "      <td>10</td>\n",
       "      <td>27</td>\n",
       "      <td>1</td>\n",
       "      <td>0</td>\n",
       "      <td>2000-01</td>\n",
       "      <td>18</td>\n",
       "      <td>2PT Field Goal</td>\n",
       "      <td>Right Side(R)</td>\n",
       "      <td>Mid-Range</td>\n",
       "      <td>16-24 ft.</td>\n",
       "      <td>POR</td>\n",
       "      <td>2000-10-31</td>\n",
       "      <td>0</td>\n",
       "      <td>627</td>\n",
       "      <td>False</td>\n",
       "      <td>1</td>\n",
       "      <td>10</td>\n",
       "    </tr>\n",
       "    <tr>\n",
       "      <th>1</th>\n",
       "      <td>0.0</td>\n",
       "      <td>Jump Shot</td>\n",
       "      <td>Jump Shot</td>\n",
       "      <td>-157</td>\n",
       "      <td>0</td>\n",
       "      <td>10</td>\n",
       "      <td>22</td>\n",
       "      <td>1</td>\n",
       "      <td>0</td>\n",
       "      <td>2000-01</td>\n",
       "      <td>15</td>\n",
       "      <td>2PT Field Goal</td>\n",
       "      <td>Left Side(L)</td>\n",
       "      <td>Mid-Range</td>\n",
       "      <td>8-16 ft.</td>\n",
       "      <td>POR</td>\n",
       "      <td>2000-10-31</td>\n",
       "      <td>6</td>\n",
       "      <td>622</td>\n",
       "      <td>False</td>\n",
       "      <td>1</td>\n",
       "      <td>10</td>\n",
       "    </tr>\n",
       "    <tr>\n",
       "      <th>2</th>\n",
       "      <td>1.0</td>\n",
       "      <td>Jump Shot</td>\n",
       "      <td>Jump Shot</td>\n",
       "      <td>-101</td>\n",
       "      <td>135</td>\n",
       "      <td>7</td>\n",
       "      <td>45</td>\n",
       "      <td>1</td>\n",
       "      <td>0</td>\n",
       "      <td>2000-01</td>\n",
       "      <td>16</td>\n",
       "      <td>2PT Field Goal</td>\n",
       "      <td>Left Side Center(LC)</td>\n",
       "      <td>Mid-Range</td>\n",
       "      <td>16-24 ft.</td>\n",
       "      <td>POR</td>\n",
       "      <td>2000-10-31</td>\n",
       "      <td>5</td>\n",
       "      <td>465</td>\n",
       "      <td>False</td>\n",
       "      <td>1</td>\n",
       "      <td>10</td>\n",
       "    </tr>\n",
       "    <tr>\n",
       "      <th>3</th>\n",
       "      <td>0.0</td>\n",
       "      <td>Jump Shot</td>\n",
       "      <td>Jump Shot</td>\n",
       "      <td>138</td>\n",
       "      <td>175</td>\n",
       "      <td>6</td>\n",
       "      <td>52</td>\n",
       "      <td>1</td>\n",
       "      <td>0</td>\n",
       "      <td>2000-01</td>\n",
       "      <td>22</td>\n",
       "      <td>2PT Field Goal</td>\n",
       "      <td>Right Side Center(RC)</td>\n",
       "      <td>Mid-Range</td>\n",
       "      <td>16-24 ft.</td>\n",
       "      <td>POR</td>\n",
       "      <td>2000-10-31</td>\n",
       "      <td>0</td>\n",
       "      <td>412</td>\n",
       "      <td>False</td>\n",
       "      <td>1</td>\n",
       "      <td>10</td>\n",
       "    </tr>\n",
       "    <tr>\n",
       "      <th>4</th>\n",
       "      <td>1.0</td>\n",
       "      <td>Driving Dunk Shot</td>\n",
       "      <td>Dunk</td>\n",
       "      <td>0</td>\n",
       "      <td>0</td>\n",
       "      <td>6</td>\n",
       "      <td>19</td>\n",
       "      <td>2</td>\n",
       "      <td>0</td>\n",
       "      <td>2000-01</td>\n",
       "      <td>0</td>\n",
       "      <td>2PT Field Goal</td>\n",
       "      <td>Center(C)</td>\n",
       "      <td>Restricted Area</td>\n",
       "      <td>Less Than 8 ft.</td>\n",
       "      <td>POR</td>\n",
       "      <td>2000-10-31</td>\n",
       "      <td>2</td>\n",
       "      <td>379</td>\n",
       "      <td>False</td>\n",
       "      <td>1</td>\n",
       "      <td>10</td>\n",
       "    </tr>\n",
       "  </tbody>\n",
       "</table>\n",
       "</div>"
      ],
      "text/plain": [
       "   shot_made_flag        action_type combined_shot_type  loc_x  loc_y  \\\n",
       "0             NaN          Jump Shot          Jump Shot    167     72   \n",
       "1             0.0          Jump Shot          Jump Shot   -157      0   \n",
       "2             1.0          Jump Shot          Jump Shot   -101    135   \n",
       "3             0.0          Jump Shot          Jump Shot    138    175   \n",
       "4             1.0  Driving Dunk Shot               Dunk      0      0   \n",
       "\n",
       "   minutes_remaining  seconds_remaining  period  playoffs   season  \\\n",
       "0                 10                 27       1         0  2000-01   \n",
       "1                 10                 22       1         0  2000-01   \n",
       "2                  7                 45       1         0  2000-01   \n",
       "3                  6                 52       1         0  2000-01   \n",
       "4                  6                 19       2         0  2000-01   \n",
       "\n",
       "   shot_distance       shot_type         shot_zone_area  shot_zone_basic  \\\n",
       "0             18  2PT Field Goal          Right Side(R)        Mid-Range   \n",
       "1             15  2PT Field Goal           Left Side(L)        Mid-Range   \n",
       "2             16  2PT Field Goal   Left Side Center(LC)        Mid-Range   \n",
       "3             22  2PT Field Goal  Right Side Center(RC)        Mid-Range   \n",
       "4              0  2PT Field Goal              Center(C)  Restricted Area   \n",
       "\n",
       "   shot_zone_range opponent   game_date  loc_cluster  time_remaining  \\\n",
       "0        16-24 ft.      POR  2000-10-31            0             627   \n",
       "1         8-16 ft.      POR  2000-10-31            6             622   \n",
       "2        16-24 ft.      POR  2000-10-31            5             465   \n",
       "3        16-24 ft.      POR  2000-10-31            0             412   \n",
       "4  Less Than 8 ft.      POR  2000-10-31            2             379   \n",
       "\n",
       "   made_in_last_30  game_weekday  game_month  \n",
       "0            False             1          10  \n",
       "1            False             1          10  \n",
       "2            False             1          10  \n",
       "3            False             1          10  \n",
       "4            False             1          10  "
      ]
     },
     "execution_count": 33,
     "metadata": {},
     "output_type": "execute_result"
    }
   ],
   "source": [
    "game_date_converted = []\n",
    "game_weekday = []\n",
    "game_month = []\n",
    "for i in range(0, d1.shape[0]):\n",
    "    game_date_converted.append(datetime.strptime(d1[\"game_date\"][i], '%Y-%m-%d'))\n",
    "    game_weekday.append(game_date_converted[i].weekday())\n",
    "    game_month.append(game_date_converted[i].month)\n",
    "d1['game_weekday'], d1['game_month'] = game_weekday, game_month\n",
    "d1.head(5)"
   ]
  },
  {
   "cell_type": "code",
   "execution_count": 34,
   "metadata": {},
   "outputs": [
    {
     "data": {
      "text/plain": [
       "Text(0.5,1,'% Shots Made, by Game Weekday')"
      ]
     },
     "execution_count": 34,
     "metadata": {},
     "output_type": "execute_result"
    },
    {
     "data": {
      "image/png": "[encoded data removed]",
      "text/plain": [
       "<matplotlib.figure.Figure at 0x1a08bbd6048>"
      ]
     },
     "metadata": {},
     "output_type": "display_data"
    }
   ],
   "source": [
    "d1[\"shot_made_flag\"].groupby(d1[\"game_weekday\"]).mean().plot.bar(figsize=(12,5)).set_title(\"% Shots Made, by Game Weekday\")\n"
   ]
  },
  {
   "cell_type": "code",
   "execution_count": 35,
   "metadata": {},
   "outputs": [
    {
     "data": {
      "text/plain": [
       "Text(0.5,1,'% Shots Made, by Game Month')"
      ]
     },
     "execution_count": 35,
     "metadata": {},
     "output_type": "execute_result"
    },
    {
     "data": {
      "image/png": "[encoded data removed]",
      "text/plain": [
       "<matplotlib.figure.Figure at 0x1a08c522438>"
      ]
     },
     "metadata": {},
     "output_type": "display_data"
    }
   ],
   "source": [
    "d1[\"shot_made_flag\"].groupby(d1[\"game_month\"]).mean().plot.bar(figsize=(12,5)).set_title(\"% Shots Made, by Game Month\")\n"
   ]
  },
  {
   "cell_type": "markdown",
   "metadata": {},
   "source": [
    "There does not appear to be any relationship between game weekday and shot_made_flag. There is some correlation between game month and shot_made_flag, but not by much."
   ]
  },
  {
   "cell_type": "markdown",
   "metadata": {},
   "source": [
    "## Data Preparation\n",
    "\n",
    "To prepare the data for analysis, we will first have to convert the categorical variables into numeric form so that they can be fed to algorithms. We will then have to divide the data into the appropriate training, development, and test sets."
   ]
  },
  {
   "cell_type": "markdown",
   "metadata": {},
   "source": [
    "### Transformations"
   ]
  },
  {
   "cell_type": "code",
   "execution_count": 36,
   "metadata": {},
   "outputs": [
    {
     "data": {
      "text/html": [
       "<div>\n",
       "<style scoped>\n",
       "    .dataframe tbody tr th:only-of-type {\n",
       "        vertical-align: middle;\n",
       "    }\n",
       "\n",
       "    .dataframe tbody tr th {\n",
       "        vertical-align: top;\n",
       "    }\n",
       "\n",
       "    .dataframe thead th {\n",
       "        text-align: right;\n",
       "    }\n",
       "</style>\n",
       "<table border=\"1\" class=\"dataframe\">\n",
       "  <thead>\n",
       "    <tr style=\"text-align: right;\">\n",
       "      <th></th>\n",
       "      <th>shot_made_flag</th>\n",
       "      <th>action_type</th>\n",
       "      <th>combined_shot_type</th>\n",
       "      <th>loc_x</th>\n",
       "      <th>loc_y</th>\n",
       "      <th>minutes_remaining</th>\n",
       "      <th>seconds_remaining</th>\n",
       "      <th>period</th>\n",
       "      <th>playoffs</th>\n",
       "      <th>season</th>\n",
       "      <th>shot_distance</th>\n",
       "      <th>shot_type</th>\n",
       "      <th>shot_zone_area</th>\n",
       "      <th>shot_zone_basic</th>\n",
       "      <th>shot_zone_range</th>\n",
       "      <th>opponent</th>\n",
       "      <th>game_date</th>\n",
       "      <th>loc_cluster</th>\n",
       "      <th>time_remaining</th>\n",
       "      <th>made_in_last_30</th>\n",
       "      <th>game_weekday</th>\n",
       "      <th>game_month</th>\n",
       "    </tr>\n",
       "  </thead>\n",
       "  <tbody>\n",
       "    <tr>\n",
       "      <th>0</th>\n",
       "      <td>NaN</td>\n",
       "      <td>Jump Shot</td>\n",
       "      <td>Jump Shot</td>\n",
       "      <td>167</td>\n",
       "      <td>72</td>\n",
       "      <td>10</td>\n",
       "      <td>27</td>\n",
       "      <td>1</td>\n",
       "      <td>0</td>\n",
       "      <td>2000-01</td>\n",
       "      <td>18</td>\n",
       "      <td>2PT Field Goal</td>\n",
       "      <td>Right Side(R)</td>\n",
       "      <td>Mid-Range</td>\n",
       "      <td>16-24 ft.</td>\n",
       "      <td>POR</td>\n",
       "      <td>2000-10-31</td>\n",
       "      <td>0</td>\n",
       "      <td>627</td>\n",
       "      <td>False</td>\n",
       "      <td>1</td>\n",
       "      <td>10</td>\n",
       "    </tr>\n",
       "    <tr>\n",
       "      <th>1</th>\n",
       "      <td>0.0</td>\n",
       "      <td>Jump Shot</td>\n",
       "      <td>Jump Shot</td>\n",
       "      <td>-157</td>\n",
       "      <td>0</td>\n",
       "      <td>10</td>\n",
       "      <td>22</td>\n",
       "      <td>1</td>\n",
       "      <td>0</td>\n",
       "      <td>2000-01</td>\n",
       "      <td>15</td>\n",
       "      <td>2PT Field Goal</td>\n",
       "      <td>Left Side(L)</td>\n",
       "      <td>Mid-Range</td>\n",
       "      <td>8-16 ft.</td>\n",
       "      <td>POR</td>\n",
       "      <td>2000-10-31</td>\n",
       "      <td>6</td>\n",
       "      <td>622</td>\n",
       "      <td>False</td>\n",
       "      <td>1</td>\n",
       "      <td>10</td>\n",
       "    </tr>\n",
       "    <tr>\n",
       "      <th>2</th>\n",
       "      <td>1.0</td>\n",
       "      <td>Jump Shot</td>\n",
       "      <td>Jump Shot</td>\n",
       "      <td>-101</td>\n",
       "      <td>135</td>\n",
       "      <td>7</td>\n",
       "      <td>45</td>\n",
       "      <td>1</td>\n",
       "      <td>0</td>\n",
       "      <td>2000-01</td>\n",
       "      <td>16</td>\n",
       "      <td>2PT Field Goal</td>\n",
       "      <td>Left Side Center(LC)</td>\n",
       "      <td>Mid-Range</td>\n",
       "      <td>16-24 ft.</td>\n",
       "      <td>POR</td>\n",
       "      <td>2000-10-31</td>\n",
       "      <td>5</td>\n",
       "      <td>465</td>\n",
       "      <td>False</td>\n",
       "      <td>1</td>\n",
       "      <td>10</td>\n",
       "    </tr>\n",
       "    <tr>\n",
       "      <th>3</th>\n",
       "      <td>0.0</td>\n",
       "      <td>Jump Shot</td>\n",
       "      <td>Jump Shot</td>\n",
       "      <td>138</td>\n",
       "      <td>175</td>\n",
       "      <td>6</td>\n",
       "      <td>52</td>\n",
       "      <td>1</td>\n",
       "      <td>0</td>\n",
       "      <td>2000-01</td>\n",
       "      <td>22</td>\n",
       "      <td>2PT Field Goal</td>\n",
       "      <td>Right Side Center(RC)</td>\n",
       "      <td>Mid-Range</td>\n",
       "      <td>16-24 ft.</td>\n",
       "      <td>POR</td>\n",
       "      <td>2000-10-31</td>\n",
       "      <td>0</td>\n",
       "      <td>412</td>\n",
       "      <td>False</td>\n",
       "      <td>1</td>\n",
       "      <td>10</td>\n",
       "    </tr>\n",
       "    <tr>\n",
       "      <th>4</th>\n",
       "      <td>1.0</td>\n",
       "      <td>Driving Dunk Shot</td>\n",
       "      <td>Dunk</td>\n",
       "      <td>0</td>\n",
       "      <td>0</td>\n",
       "      <td>6</td>\n",
       "      <td>19</td>\n",
       "      <td>2</td>\n",
       "      <td>0</td>\n",
       "      <td>2000-01</td>\n",
       "      <td>0</td>\n",
       "      <td>2PT Field Goal</td>\n",
       "      <td>Center(C)</td>\n",
       "      <td>Restricted Area</td>\n",
       "      <td>Less Than 8 ft.</td>\n",
       "      <td>POR</td>\n",
       "      <td>2000-10-31</td>\n",
       "      <td>2</td>\n",
       "      <td>379</td>\n",
       "      <td>False</td>\n",
       "      <td>1</td>\n",
       "      <td>10</td>\n",
       "    </tr>\n",
       "  </tbody>\n",
       "</table>\n",
       "</div>"
      ],
      "text/plain": [
       "   shot_made_flag        action_type combined_shot_type  loc_x  loc_y  \\\n",
       "0             NaN          Jump Shot          Jump Shot    167     72   \n",
       "1             0.0          Jump Shot          Jump Shot   -157      0   \n",
       "2             1.0          Jump Shot          Jump Shot   -101    135   \n",
       "3             0.0          Jump Shot          Jump Shot    138    175   \n",
       "4             1.0  Driving Dunk Shot               Dunk      0      0   \n",
       "\n",
       "   minutes_remaining  seconds_remaining  period  playoffs   season  \\\n",
       "0                 10                 27       1         0  2000-01   \n",
       "1                 10                 22       1         0  2000-01   \n",
       "2                  7                 45       1         0  2000-01   \n",
       "3                  6                 52       1         0  2000-01   \n",
       "4                  6                 19       2         0  2000-01   \n",
       "\n",
       "   shot_distance       shot_type         shot_zone_area  shot_zone_basic  \\\n",
       "0             18  2PT Field Goal          Right Side(R)        Mid-Range   \n",
       "1             15  2PT Field Goal           Left Side(L)        Mid-Range   \n",
       "2             16  2PT Field Goal   Left Side Center(LC)        Mid-Range   \n",
       "3             22  2PT Field Goal  Right Side Center(RC)        Mid-Range   \n",
       "4              0  2PT Field Goal              Center(C)  Restricted Area   \n",
       "\n",
       "   shot_zone_range opponent   game_date  loc_cluster  time_remaining  \\\n",
       "0        16-24 ft.      POR  2000-10-31            0             627   \n",
       "1         8-16 ft.      POR  2000-10-31            6             622   \n",
       "2        16-24 ft.      POR  2000-10-31            5             465   \n",
       "3        16-24 ft.      POR  2000-10-31            0             412   \n",
       "4  Less Than 8 ft.      POR  2000-10-31            2             379   \n",
       "\n",
       "   made_in_last_30  game_weekday  game_month  \n",
       "0            False             1          10  \n",
       "1            False             1          10  \n",
       "2            False             1          10  \n",
       "3            False             1          10  \n",
       "4            False             1          10  "
      ]
     },
     "execution_count": 36,
     "metadata": {},
     "output_type": "execute_result"
    }
   ],
   "source": [
    "d1.head(5)"
   ]
  },
  {
   "cell_type": "code",
   "execution_count": 37,
   "metadata": {},
   "outputs": [
    {
     "name": "stderr",
     "output_type": "stream",
     "text": [
      "C:\\ProgramData\\Anaconda3\\lib\\site-packages\\pandas\\core\\indexing.py:537: SettingWithCopyWarning: \n",
      "A value is trying to be set on a copy of a slice from a DataFrame.\n",
      "Try using .loc[row_indexer,col_indexer] = value instead\n",
      "\n",
      "See the caveats in the documentation: http://pandas.pydata.org/pandas-docs/stable/indexing.html#indexing-view-versus-copy\n",
      "  self.obj[item] = s\n"
     ]
    }
   ],
   "source": [
    "# convert type object to categorical \n",
    "to_convert = d1.select_dtypes([\"object\"]).columns\n",
    "for col in to_convert:\n",
    "    d1.loc[:,col] = d1.loc[:,col].astype('category')\n",
    "# convert categorical to numerical values\n",
    "d1.loc[:,to_convert] = d1.loc[:,to_convert].apply(lambda x: x.cat.codes)"
   ]
  },
  {
   "cell_type": "code",
   "execution_count": 38,
   "metadata": {},
   "outputs": [
    {
     "data": {
      "text/plain": [
       "shot_made_flag        float64\n",
       "action_type              int8\n",
       "combined_shot_type       int8\n",
       "loc_x                   int64\n",
       "loc_y                   int64\n",
       "minutes_remaining       int64\n",
       "seconds_remaining       int64\n",
       "period                  int64\n",
       "playoffs                int64\n",
       "season                   int8\n",
       "shot_distance           int64\n",
       "shot_type                int8\n",
       "shot_zone_area           int8\n",
       "shot_zone_basic          int8\n",
       "shot_zone_range          int8\n",
       "opponent                 int8\n",
       "game_date               int16\n",
       "loc_cluster             int64\n",
       "time_remaining          int64\n",
       "made_in_last_30          bool\n",
       "game_weekday            int64\n",
       "game_month              int64\n",
       "dtype: object"
      ]
     },
     "execution_count": 38,
     "metadata": {},
     "output_type": "execute_result"
    }
   ],
   "source": [
    "d1.dtypes"
   ]
  },
  {
   "cell_type": "code",
   "execution_count": 39,
   "metadata": {},
   "outputs": [
    {
     "data": {
      "text/plain": [
       "(30697, 22)"
      ]
     },
     "execution_count": 39,
     "metadata": {},
     "output_type": "execute_result"
    }
   ],
   "source": [
    "d1.shape"
   ]
  },
  {
   "cell_type": "code",
   "execution_count": 40,
   "metadata": {
    "scrolled": true
   },
   "outputs": [
    {
     "data": {
      "text/html": [
       "<div>\n",
       "<style scoped>\n",
       "    .dataframe tbody tr th:only-of-type {\n",
       "        vertical-align: middle;\n",
       "    }\n",
       "\n",
       "    .dataframe tbody tr th {\n",
       "        vertical-align: top;\n",
       "    }\n",
       "\n",
       "    .dataframe thead th {\n",
       "        text-align: right;\n",
       "    }\n",
       "</style>\n",
       "<table border=\"1\" class=\"dataframe\">\n",
       "  <thead>\n",
       "    <tr style=\"text-align: right;\">\n",
       "      <th></th>\n",
       "      <th>shot_made_flag</th>\n",
       "      <th>action_type</th>\n",
       "      <th>combined_shot_type</th>\n",
       "      <th>loc_x</th>\n",
       "      <th>loc_y</th>\n",
       "      <th>minutes_remaining</th>\n",
       "      <th>seconds_remaining</th>\n",
       "      <th>period</th>\n",
       "      <th>playoffs</th>\n",
       "      <th>season</th>\n",
       "      <th>shot_distance</th>\n",
       "      <th>shot_type</th>\n",
       "      <th>shot_zone_area</th>\n",
       "      <th>shot_zone_basic</th>\n",
       "      <th>shot_zone_range</th>\n",
       "      <th>opponent</th>\n",
       "      <th>game_date</th>\n",
       "      <th>loc_cluster</th>\n",
       "      <th>time_remaining</th>\n",
       "      <th>made_in_last_30</th>\n",
       "      <th>game_weekday</th>\n",
       "      <th>game_month</th>\n",
       "    </tr>\n",
       "  </thead>\n",
       "  <tbody>\n",
       "    <tr>\n",
       "      <th>0</th>\n",
       "      <td>NaN</td>\n",
       "      <td>18</td>\n",
       "      <td>3</td>\n",
       "      <td>167</td>\n",
       "      <td>72</td>\n",
       "      <td>10</td>\n",
       "      <td>27</td>\n",
       "      <td>1</td>\n",
       "      <td>0</td>\n",
       "      <td>4</td>\n",
       "      <td>18</td>\n",
       "      <td>0</td>\n",
       "      <td>5</td>\n",
       "      <td>4</td>\n",
       "      <td>0</td>\n",
       "      <td>25</td>\n",
       "      <td>310</td>\n",
       "      <td>0</td>\n",
       "      <td>627</td>\n",
       "      <td>False</td>\n",
       "      <td>1</td>\n",
       "      <td>10</td>\n",
       "    </tr>\n",
       "    <tr>\n",
       "      <th>1</th>\n",
       "      <td>0.0</td>\n",
       "      <td>18</td>\n",
       "      <td>3</td>\n",
       "      <td>-157</td>\n",
       "      <td>0</td>\n",
       "      <td>10</td>\n",
       "      <td>22</td>\n",
       "      <td>1</td>\n",
       "      <td>0</td>\n",
       "      <td>4</td>\n",
       "      <td>15</td>\n",
       "      <td>0</td>\n",
       "      <td>3</td>\n",
       "      <td>4</td>\n",
       "      <td>2</td>\n",
       "      <td>25</td>\n",
       "      <td>310</td>\n",
       "      <td>6</td>\n",
       "      <td>622</td>\n",
       "      <td>False</td>\n",
       "      <td>1</td>\n",
       "      <td>10</td>\n",
       "    </tr>\n",
       "    <tr>\n",
       "      <th>2</th>\n",
       "      <td>1.0</td>\n",
       "      <td>18</td>\n",
       "      <td>3</td>\n",
       "      <td>-101</td>\n",
       "      <td>135</td>\n",
       "      <td>7</td>\n",
       "      <td>45</td>\n",
       "      <td>1</td>\n",
       "      <td>0</td>\n",
       "      <td>4</td>\n",
       "      <td>16</td>\n",
       "      <td>0</td>\n",
       "      <td>2</td>\n",
       "      <td>4</td>\n",
       "      <td>0</td>\n",
       "      <td>25</td>\n",
       "      <td>310</td>\n",
       "      <td>5</td>\n",
       "      <td>465</td>\n",
       "      <td>False</td>\n",
       "      <td>1</td>\n",
       "      <td>10</td>\n",
       "    </tr>\n",
       "    <tr>\n",
       "      <th>3</th>\n",
       "      <td>0.0</td>\n",
       "      <td>18</td>\n",
       "      <td>3</td>\n",
       "      <td>138</td>\n",
       "      <td>175</td>\n",
       "      <td>6</td>\n",
       "      <td>52</td>\n",
       "      <td>1</td>\n",
       "      <td>0</td>\n",
       "      <td>4</td>\n",
       "      <td>22</td>\n",
       "      <td>0</td>\n",
       "      <td>4</td>\n",
       "      <td>4</td>\n",
       "      <td>0</td>\n",
       "      <td>25</td>\n",
       "      <td>310</td>\n",
       "      <td>0</td>\n",
       "      <td>412</td>\n",
       "      <td>False</td>\n",
       "      <td>1</td>\n",
       "      <td>10</td>\n",
       "    </tr>\n",
       "    <tr>\n",
       "      <th>4</th>\n",
       "      <td>1.0</td>\n",
       "      <td>2</td>\n",
       "      <td>1</td>\n",
       "      <td>0</td>\n",
       "      <td>0</td>\n",
       "      <td>6</td>\n",
       "      <td>19</td>\n",
       "      <td>2</td>\n",
       "      <td>0</td>\n",
       "      <td>4</td>\n",
       "      <td>0</td>\n",
       "      <td>0</td>\n",
       "      <td>1</td>\n",
       "      <td>5</td>\n",
       "      <td>4</td>\n",
       "      <td>25</td>\n",
       "      <td>310</td>\n",
       "      <td>2</td>\n",
       "      <td>379</td>\n",
       "      <td>False</td>\n",
       "      <td>1</td>\n",
       "      <td>10</td>\n",
       "    </tr>\n",
       "  </tbody>\n",
       "</table>\n",
       "</div>"
      ],
      "text/plain": [
       "   shot_made_flag  action_type  combined_shot_type  loc_x  loc_y  \\\n",
       "0             NaN           18                   3    167     72   \n",
       "1             0.0           18                   3   -157      0   \n",
       "2             1.0           18                   3   -101    135   \n",
       "3             0.0           18                   3    138    175   \n",
       "4             1.0            2                   1      0      0   \n",
       "\n",
       "   minutes_remaining  seconds_remaining  period  playoffs  season  \\\n",
       "0                 10                 27       1         0       4   \n",
       "1                 10                 22       1         0       4   \n",
       "2                  7                 45       1         0       4   \n",
       "3                  6                 52       1         0       4   \n",
       "4                  6                 19       2         0       4   \n",
       "\n",
       "   shot_distance  shot_type  shot_zone_area  shot_zone_basic  shot_zone_range  \\\n",
       "0             18          0               5                4                0   \n",
       "1             15          0               3                4                2   \n",
       "2             16          0               2                4                0   \n",
       "3             22          0               4                4                0   \n",
       "4              0          0               1                5                4   \n",
       "\n",
       "   opponent  game_date  loc_cluster  time_remaining  made_in_last_30  \\\n",
       "0        25        310            0             627            False   \n",
       "1        25        310            6             622            False   \n",
       "2        25        310            5             465            False   \n",
       "3        25        310            0             412            False   \n",
       "4        25        310            2             379            False   \n",
       "\n",
       "   game_weekday  game_month  \n",
       "0             1          10  \n",
       "1             1          10  \n",
       "2             1          10  \n",
       "3             1          10  \n",
       "4             1          10  "
      ]
     },
     "execution_count": 40,
     "metadata": {},
     "output_type": "execute_result"
    }
   ],
   "source": [
    "d1.head(5)"
   ]
  },
  {
   "cell_type": "code",
   "execution_count": 41,
   "metadata": {},
   "outputs": [
    {
     "name": "stderr",
     "output_type": "stream",
     "text": [
      "C:\\ProgramData\\Anaconda3\\lib\\site-packages\\ipykernel_launcher.py:2: SettingWithCopyWarning: \n",
      "A value is trying to be set on a copy of a slice from a DataFrame\n",
      "\n",
      "See the caveats in the documentation: http://pandas.pydata.org/pandas-docs/stable/indexing.html#indexing-view-versus-copy\n",
      "  \n",
      "C:\\ProgramData\\Anaconda3\\lib\\site-packages\\ipykernel_launcher.py:3: SettingWithCopyWarning: \n",
      "A value is trying to be set on a copy of a slice from a DataFrame\n",
      "\n",
      "See the caveats in the documentation: http://pandas.pydata.org/pandas-docs/stable/indexing.html#indexing-view-versus-copy\n",
      "  This is separate from the ipykernel package so we can avoid doing imports until\n",
      "C:\\ProgramData\\Anaconda3\\lib\\site-packages\\ipykernel_launcher.py:4: SettingWithCopyWarning: \n",
      "A value is trying to be set on a copy of a slice from a DataFrame\n",
      "\n",
      "See the caveats in the documentation: http://pandas.pydata.org/pandas-docs/stable/indexing.html#indexing-view-versus-copy\n",
      "  after removing the cwd from sys.path.\n"
     ]
    }
   ],
   "source": [
    "# drop unused columns/variables that were transformed\n",
    "d1.drop(\"minutes_remaining\", 1, inplace=True)\n",
    "d1.drop(\"seconds_remaining\", 1, inplace=True)\n",
    "d1.drop(\"game_date\", 1, inplace=True)"
   ]
  },
  {
   "cell_type": "code",
   "execution_count": 42,
   "metadata": {},
   "outputs": [
    {
     "data": {
      "text/html": [
       "<div>\n",
       "<style scoped>\n",
       "    .dataframe tbody tr th:only-of-type {\n",
       "        vertical-align: middle;\n",
       "    }\n",
       "\n",
       "    .dataframe tbody tr th {\n",
       "        vertical-align: top;\n",
       "    }\n",
       "\n",
       "    .dataframe thead th {\n",
       "        text-align: right;\n",
       "    }\n",
       "</style>\n",
       "<table border=\"1\" class=\"dataframe\">\n",
       "  <thead>\n",
       "    <tr style=\"text-align: right;\">\n",
       "      <th></th>\n",
       "      <th>shot_made_flag</th>\n",
       "      <th>action_type</th>\n",
       "      <th>combined_shot_type</th>\n",
       "      <th>loc_x</th>\n",
       "      <th>loc_y</th>\n",
       "      <th>period</th>\n",
       "      <th>playoffs</th>\n",
       "      <th>season</th>\n",
       "      <th>shot_distance</th>\n",
       "      <th>shot_type</th>\n",
       "      <th>shot_zone_area</th>\n",
       "      <th>shot_zone_basic</th>\n",
       "      <th>shot_zone_range</th>\n",
       "      <th>opponent</th>\n",
       "      <th>loc_cluster</th>\n",
       "      <th>time_remaining</th>\n",
       "      <th>made_in_last_30</th>\n",
       "      <th>game_weekday</th>\n",
       "      <th>game_month</th>\n",
       "    </tr>\n",
       "  </thead>\n",
       "  <tbody>\n",
       "    <tr>\n",
       "      <th>0</th>\n",
       "      <td>NaN</td>\n",
       "      <td>18</td>\n",
       "      <td>3</td>\n",
       "      <td>167</td>\n",
       "      <td>72</td>\n",
       "      <td>1</td>\n",
       "      <td>0</td>\n",
       "      <td>4</td>\n",
       "      <td>18</td>\n",
       "      <td>0</td>\n",
       "      <td>5</td>\n",
       "      <td>4</td>\n",
       "      <td>0</td>\n",
       "      <td>25</td>\n",
       "      <td>0</td>\n",
       "      <td>627</td>\n",
       "      <td>False</td>\n",
       "      <td>1</td>\n",
       "      <td>10</td>\n",
       "    </tr>\n",
       "    <tr>\n",
       "      <th>1</th>\n",
       "      <td>0.0</td>\n",
       "      <td>18</td>\n",
       "      <td>3</td>\n",
       "      <td>-157</td>\n",
       "      <td>0</td>\n",
       "      <td>1</td>\n",
       "      <td>0</td>\n",
       "      <td>4</td>\n",
       "      <td>15</td>\n",
       "      <td>0</td>\n",
       "      <td>3</td>\n",
       "      <td>4</td>\n",
       "      <td>2</td>\n",
       "      <td>25</td>\n",
       "      <td>6</td>\n",
       "      <td>622</td>\n",
       "      <td>False</td>\n",
       "      <td>1</td>\n",
       "      <td>10</td>\n",
       "    </tr>\n",
       "    <tr>\n",
       "      <th>2</th>\n",
       "      <td>1.0</td>\n",
       "      <td>18</td>\n",
       "      <td>3</td>\n",
       "      <td>-101</td>\n",
       "      <td>135</td>\n",
       "      <td>1</td>\n",
       "      <td>0</td>\n",
       "      <td>4</td>\n",
       "      <td>16</td>\n",
       "      <td>0</td>\n",
       "      <td>2</td>\n",
       "      <td>4</td>\n",
       "      <td>0</td>\n",
       "      <td>25</td>\n",
       "      <td>5</td>\n",
       "      <td>465</td>\n",
       "      <td>False</td>\n",
       "      <td>1</td>\n",
       "      <td>10</td>\n",
       "    </tr>\n",
       "    <tr>\n",
       "      <th>3</th>\n",
       "      <td>0.0</td>\n",
       "      <td>18</td>\n",
       "      <td>3</td>\n",
       "      <td>138</td>\n",
       "      <td>175</td>\n",
       "      <td>1</td>\n",
       "      <td>0</td>\n",
       "      <td>4</td>\n",
       "      <td>22</td>\n",
       "      <td>0</td>\n",
       "      <td>4</td>\n",
       "      <td>4</td>\n",
       "      <td>0</td>\n",
       "      <td>25</td>\n",
       "      <td>0</td>\n",
       "      <td>412</td>\n",
       "      <td>False</td>\n",
       "      <td>1</td>\n",
       "      <td>10</td>\n",
       "    </tr>\n",
       "    <tr>\n",
       "      <th>4</th>\n",
       "      <td>1.0</td>\n",
       "      <td>2</td>\n",
       "      <td>1</td>\n",
       "      <td>0</td>\n",
       "      <td>0</td>\n",
       "      <td>2</td>\n",
       "      <td>0</td>\n",
       "      <td>4</td>\n",
       "      <td>0</td>\n",
       "      <td>0</td>\n",
       "      <td>1</td>\n",
       "      <td>5</td>\n",
       "      <td>4</td>\n",
       "      <td>25</td>\n",
       "      <td>2</td>\n",
       "      <td>379</td>\n",
       "      <td>False</td>\n",
       "      <td>1</td>\n",
       "      <td>10</td>\n",
       "    </tr>\n",
       "  </tbody>\n",
       "</table>\n",
       "</div>"
      ],
      "text/plain": [
       "   shot_made_flag  action_type  combined_shot_type  loc_x  loc_y  period  \\\n",
       "0             NaN           18                   3    167     72       1   \n",
       "1             0.0           18                   3   -157      0       1   \n",
       "2             1.0           18                   3   -101    135       1   \n",
       "3             0.0           18                   3    138    175       1   \n",
       "4             1.0            2                   1      0      0       2   \n",
       "\n",
       "   playoffs  season  shot_distance  shot_type  shot_zone_area  \\\n",
       "0         0       4             18          0               5   \n",
       "1         0       4             15          0               3   \n",
       "2         0       4             16          0               2   \n",
       "3         0       4             22          0               4   \n",
       "4         0       4              0          0               1   \n",
       "\n",
       "   shot_zone_basic  shot_zone_range  opponent  loc_cluster  time_remaining  \\\n",
       "0                4                0        25            0             627   \n",
       "1                4                2        25            6             622   \n",
       "2                4                0        25            5             465   \n",
       "3                4                0        25            0             412   \n",
       "4                5                4        25            2             379   \n",
       "\n",
       "   made_in_last_30  game_weekday  game_month  \n",
       "0            False             1          10  \n",
       "1            False             1          10  \n",
       "2            False             1          10  \n",
       "3            False             1          10  \n",
       "4            False             1          10  "
      ]
     },
     "execution_count": 42,
     "metadata": {},
     "output_type": "execute_result"
    }
   ],
   "source": [
    "d1.head(5)"
   ]
  },
  {
   "cell_type": "markdown",
   "metadata": {},
   "source": [
    "### Test, train, dev datasets"
   ]
  },
  {
   "cell_type": "code",
   "execution_count": 43,
   "metadata": {},
   "outputs": [
    {
     "name": "stdout",
     "output_type": "stream",
     "text": [
      "(20697, 18)\n",
      "(5000, 18)\n"
     ]
    }
   ],
   "source": [
    "## create test dataset\n",
    "d2 = d1[pd.notnull(d1['shot_made_flag'])]\n",
    "X = d2.drop('shot_made_flag', 1)\n",
    "Y = d2['shot_made_flag']\n",
    "\n",
    "test = d1[pd.isnull(d1['shot_made_flag'])]\n",
    "test = test.drop('shot_made_flag', 1)\n",
    "\n",
    "## create train and dev datasets\n",
    "## shuffle dataframe rows\n",
    "\n",
    "## Shuffle the input\n",
    "np.random.seed(50)\n",
    "shuffle = d1.sample(frac=1)\n",
    "d2_shuffle = shuffle[pd.notnull(shuffle['shot_made_flag'])]\n",
    "X_shuffle = d2_shuffle.drop('shot_made_flag', 1)\n",
    "Y_shuffle = d2_shuffle['shot_made_flag']\n",
    "\n",
    "## create train and test set\n",
    "X_train, Y_train = X_shuffle.iloc[:20697], Y_shuffle.iloc[:20697]\n",
    "X_dev, Y_dev = X_shuffle.iloc[20697:], Y_shuffle.iloc[20697:]\n",
    "\n",
    "print(X_train.shape)\n",
    "print(X_dev.shape)\n",
    "\n",
    "train_data, train_labels = X_train.values, Y_train.values\n",
    "dev_data, dev_labels = X_dev.values, Y_dev.values"
   ]
  },
  {
   "cell_type": "code",
   "execution_count": 44,
   "metadata": {},
   "outputs": [
    {
     "name": "stdout",
     "output_type": "stream",
     "text": [
      "[[6 4 0 0 1 0 2 0 0 1 5 4 6 2 115 False 0 3]\n",
      " [18 3 -6 149 1 1 3 14 0 1 4 2 25 1 587 False 6 5]\n",
      " [18 3 43 207 1 0 5 21 0 1 4 0 13 0 373 False 4 12]\n",
      " [18 3 67 40 3 1 6 7 0 1 2 4 16 9 448 False 6 4]\n",
      " [13 4 35 26 1 0 5 4 0 1 2 4 16 7 112 False 3 4]]\n"
     ]
    }
   ],
   "source": [
    "print(train_data[:5,:])"
   ]
  },
  {
   "cell_type": "markdown",
   "metadata": {},
   "source": [
    "## Modeling"
   ]
  },
  {
   "cell_type": "markdown",
   "metadata": {},
   "source": [
    "### Logistic Regression"
   ]
  },
  {
   "cell_type": "code",
   "execution_count": 45,
   "metadata": {},
   "outputs": [
    {
     "name": "stdout",
     "output_type": "stream",
     "text": [
      "Logistic Regression Model:\n",
      "Optimal C = {'C': 0.1}; best LR score = 0.607\n",
      "\n",
      "Accuracy with dev data = 0.615\n"
     ]
    }
   ],
   "source": [
    "## Logistic regression model\n",
    "lr_model = LogisticRegression(penalty=\"l2\")\n",
    "Cs = {\"C\": [0.05, 0.1, 0.15, 0.2, 0.25, 0.3, 0.35, 0.4]}\n",
    "## use grid search to try different C values\n",
    "gs_lr = GridSearchCV(lr_model, Cs)\n",
    "gs_lr.fit(train_data, train_labels)\n",
    "print (\"Logistic Regression Model:\")\n",
    "print (\"Optimal C = {}; best LR score = {:.3}\\n\".format(gs_lr.best_params_, gs_lr.best_score_) )\n",
    "## using optimal C\n",
    "lr_model_optimal = LogisticRegression(C=gs_lr.best_params_[\"C\"])\n",
    "lr_model_optimal.fit(train_data, train_labels)\n",
    "predicted_dev = lr_model_optimal.predict(dev_data)\n",
    "kaggle_submission = lr_model_optimal.predict_proba(test)\n",
    "print (\"Accuracy with dev data = {:.3}\".format(np.mean(dev_labels == predicted_dev)) )"
   ]
  },
  {
   "cell_type": "code",
   "execution_count": 46,
   "metadata": {},
   "outputs": [],
   "source": [
    "## Kaggle submission score for logistic regression: 0.74563"
   ]
  },
  {
   "cell_type": "markdown",
   "metadata": {},
   "source": [
    "### BernoulliNB"
   ]
  },
  {
   "cell_type": "code",
   "execution_count": 47,
   "metadata": {
    "scrolled": true
   },
   "outputs": [
    {
     "name": "stderr",
     "output_type": "stream",
     "text": [
      "C:\\ProgramData\\Anaconda3\\lib\\site-packages\\sklearn\\naive_bayes.py:472: UserWarning: alpha too small will result in numeric errors, setting alpha = 1.0e-10\n",
      "  'setting alpha = %.1e' % _ALPHA_MIN)\n",
      "C:\\ProgramData\\Anaconda3\\lib\\site-packages\\sklearn\\naive_bayes.py:472: UserWarning: alpha too small will result in numeric errors, setting alpha = 1.0e-10\n",
      "  'setting alpha = %.1e' % _ALPHA_MIN)\n",
      "C:\\ProgramData\\Anaconda3\\lib\\site-packages\\sklearn\\naive_bayes.py:472: UserWarning: alpha too small will result in numeric errors, setting alpha = 1.0e-10\n",
      "  'setting alpha = %.1e' % _ALPHA_MIN)\n"
     ]
    },
    {
     "name": "stdout",
     "output_type": "stream",
     "text": [
      "BernoulliNB Model:\n",
      "Optimal alpha = {'alpha': 10.0}; best BernoulliNB score = 0.596\n",
      "\n",
      "Accuracy with dev data = 0.599\n"
     ]
    }
   ],
   "source": [
    "## BernoulliNB model with default\n",
    "bernoulli_model = BernoulliNB()\n",
    "alphas = {'alpha': [0.0, 0.0001, 0.001, 0.01, 0.1, 0.5, 1.0, 2.0, 10.0]}\n",
    "## perform search using GridSearchCV in Bernoulli NB model\n",
    "gs_b = GridSearchCV(bernoulli_model, alphas)\n",
    "## fit the model with mini training set\n",
    "gs_b.fit(train_data, train_labels)\n",
    "print (\"BernoulliNB Model:\")\n",
    "print (\"Optimal alpha = {}; best BernoulliNB score = {:.3}\\n\".format(gs_b.best_params_, gs_b.best_score_) )\n",
    "## using optimal alpha\n",
    "b_model_optimal = BernoulliNB(alpha=gs_b.best_params_['alpha'])\n",
    "b_model_optimal.fit(train_data, train_labels)\n",
    "predicted_dev = b_model_optimal.predict(dev_data)\n",
    "kaggle_submission = b_model_optimal.predict_proba(dev_data)\n",
    "print (\"Accuracy with dev data = {:.3}\".format(np.mean(dev_labels == predicted_dev)) )"
   ]
  },
  {
   "cell_type": "code",
   "execution_count": 48,
   "metadata": {},
   "outputs": [],
   "source": [
    "## Kaggle submission score for BernoulliNB: 0.78988"
   ]
  },
  {
   "cell_type": "markdown",
   "metadata": {},
   "source": [
    "### K Nearest Neighbors"
   ]
  },
  {
   "cell_type": "code",
   "execution_count": 49,
   "metadata": {},
   "outputs": [
    {
     "name": "stdout",
     "output_type": "stream",
     "text": [
      "K-Nearest Neighbors Classifier:\n",
      "Optimal k = {'n_neighbors': 14}; best KNN score = 0.598\n",
      "\n",
      "Accuracy with dev data = 0.608\n"
     ]
    }
   ],
   "source": [
    "## KNN classifier\n",
    "knn_model = KNeighborsClassifier()\n",
    "k_values = {\"n_neighbors\": [1,2,3,4,5,6,7,8,9,10,11,12,13,14,15] }\n",
    "## use grid search to try different # of neighbors\n",
    "gs_knn = GridSearchCV(knn_model, k_values)\n",
    "gs_knn.fit(train_data, train_labels) \n",
    "print (\"K-Nearest Neighbors Classifier:\" )\n",
    "print (\"Optimal k = {}; best KNN score = {:.3}\\n\".format(gs_knn.best_params_, gs_knn.best_score_) )\n",
    "# using most optimal k value, report f1 score\n",
    "knn_model_optimal = KNeighborsClassifier(n_neighbors=gs_knn.best_params_[\"n_neighbors\"])\n",
    "knn_model_optimal.fit(train_data, train_labels)\n",
    "predicted_dev = knn_model_optimal.predict(dev_data)\n",
    "kaggle_submission = knn_model_optimal.predict_proba(dev_data)\n",
    "print (\"Accuracy with dev data = {:.3}\".format(np.mean(dev_labels == predicted_dev)) )"
   ]
  },
  {
   "cell_type": "code",
   "execution_count": 50,
   "metadata": {},
   "outputs": [],
   "source": [
    "## Kaggle submission score for KNN classifier: 1.22009"
   ]
  },
  {
   "cell_type": "markdown",
   "metadata": {},
   "source": [
    "### Gradient Boosted Decision Trees"
   ]
  },
  {
   "cell_type": "code",
   "execution_count": 51,
   "metadata": {},
   "outputs": [
    {
     "name": "stdout",
     "output_type": "stream",
     "text": [
      "Gradient Boosted Decision Trees:\n",
      "Optimal parameters = {'learning_rate': 0.1, 'n_estimators': 100}; best GB score = 0.678\n",
      "\n",
      "Accuracy with dev data = 0.691\n"
     ]
    }
   ],
   "source": [
    "## Gradient Boosted Decision Trees\n",
    "gb_model = GradientBoostingClassifier()\n",
    "n_estimators = [100, 200, 300, 400, 500]\n",
    "learning_rate = [0.0001, 0.001, 0.01, 0.1]\n",
    "param_grid = dict(learning_rate=learning_rate, n_estimators=n_estimators)\n",
    "gs_gb = GridSearchCV(gb_model, param_grid)\n",
    "gs_gb.fit(train_data, train_labels)\n",
    "print (\"Gradient Boosted Decision Trees:\")\n",
    "print (\"Optimal parameters = {}; best GB score = {:.3}\\n\".format(gs_gb.best_params_, gs_gb.best_score_) )\n",
    "gb_model_optimal = GradientBoostingClassifier(learning_rate=0.1, n_estimators=100)\n",
    "gb_model_optimal.fit(train_data, train_labels)\n",
    "predicted_dev = gb_model_optimal.predict(dev_data)\n",
    "kaggle_submission = gb_model_optimal.predict_proba(dev_data)\n",
    "print (\"Accuracy with dev data = {:.3}\".format(np.mean(dev_labels == predicted_dev)) )"
   ]
  },
  {
   "cell_type": "code",
   "execution_count": 52,
   "metadata": {},
   "outputs": [],
   "source": [
    "## Kaggle submission score for gradient boosted decision trees: 0.80514"
   ]
  },
  {
   "cell_type": "markdown",
   "metadata": {},
   "source": [
    "### Gaussian Mixture Model"
   ]
  },
  {
   "cell_type": "code",
   "execution_count": 53,
   "metadata": {},
   "outputs": [
    {
     "name": "stdout",
     "output_type": "stream",
     "text": [
      "2\n"
     ]
    },
    {
     "data": {
      "image/png": "[encoded data removed]",
      "text/plain": [
       "<matplotlib.figure.Figure at 0x1a08c565c50>"
      ]
     },
     "metadata": {},
     "output_type": "display_data"
    }
   ],
   "source": [
    "## GMM Model\n",
    "\n",
    "# Determine appropriate PCA component count\n",
    "pca = PCA(n_components=13)\n",
    "pca.fit(train_data)\n",
    "plt.plot(np.cumsum(pca.explained_variance_ratio_))\n",
    "print (np.sum(np.cumsum(pca.explained_variance_ratio_) < .9))"
   ]
  },
  {
   "cell_type": "code",
   "execution_count": 54,
   "metadata": {},
   "outputs": [
    {
     "data": {
      "text/plain": [
       "array([[-202.66848097,    4.17330375, -101.0984877 ],\n",
       "       [ 262.49722747,   16.95784875,   68.34409416],\n",
       "       [  46.4672063 ,  -31.95002564,  118.85777737],\n",
       "       [ 128.65830235,  -59.59796485,  -44.78611596],\n",
       "       [-206.59734351,  -30.13536333,  -74.07261633]])"
      ]
     },
     "execution_count": 54,
     "metadata": {},
     "output_type": "execute_result"
    }
   ],
   "source": [
    "# ideal # components looks like 3-4\n",
    "num_comp = 3\n",
    "\n",
    "# project training and dev data to 3d\n",
    "pca = PCA(n_components=num_comp)\n",
    "pca.fit(train_data)\n",
    "train_3d = pca.transform(train_data)\n",
    "dev_3d = pca.transform(dev_data)\n",
    "train_3d[:5,:]\n"
   ]
  },
  {
   "cell_type": "code",
   "execution_count": 55,
   "metadata": {},
   "outputs": [
    {
     "name": "stdout",
     "output_type": "stream",
     "text": [
      "Gaussian Mixture Models:\n",
      "Optimal parameters = {'covariance_type': 'full', 'n_components': 4}; best GMM score = -18.6\n",
      "\n",
      "Accuracy with dev data = 0.238\n"
     ]
    }
   ],
   "source": [
    "## perform search using GridSearchCV for GaussianMixture model\n",
    "gmm_model = GaussianMixture()\n",
    "comps = [1, 2, 3, 4]\n",
    "structures = ['spherical', 'tied', 'diag', 'full']\n",
    "param_grid = dict(n_components=comps, covariance_type=structures)\n",
    "gs_gmm = GridSearchCV(gmm_model, param_grid)\n",
    "gs_gmm.fit(train_3d, train_labels)\n",
    "print (\"Gaussian Mixture Models:\")\n",
    "print (\"Optimal parameters = {}; best GMM score = {:.3}\\n\".format(gs_gmm.best_params_, gs_gmm.best_score_) )\n",
    "## using optimal number of components and covariance type\n",
    "gmm_optimal = GaussianMixture(n_components=gs_gmm.best_params_[\"n_components\"], covariance_type=gs_gmm.best_params_[\"covariance_type\"])\n",
    "gmm_optimal.fit(train_3d, train_labels)\n",
    "predicted_dev = gmm_optimal.predict(dev_3d)\n",
    "kaggle_submission = gmm_optimal.predict_proba(dev_3d)\n",
    "print (\"Accuracy with dev data = {:.3}\".format(np.mean(dev_labels == predicted_dev)) )"
   ]
  },
  {
   "cell_type": "code",
   "execution_count": 59,
   "metadata": {},
   "outputs": [
    {
     "name": "stdout",
     "output_type": "stream",
     "text": [
      "Accuracy with dev data = 0.511\n"
     ]
    }
   ],
   "source": [
    "## Best-of GMM\n",
    "train_3d_pos = pca.transform(train_data[train_labels==1])\n",
    "train_3d_neg = pca.transform(train_data[train_labels==0])\n",
    "\n",
    "## Create one GMM model for the positive examples, and one for negative\n",
    "gmm_mod_pos = GaussianMixture(n_components=gs_gmm.best_params_[\"n_components\"], covariance_type=gs_gmm.best_params_[\"covariance_type\"])\n",
    "gmm_mod_pos.fit(train_3d_pos)\n",
    "gmm_mod_neg = GaussianMixture(n_components=gs_gmm.best_params_[\"n_components\"], covariance_type=gs_gmm.best_params_[\"covariance_type\"])\n",
    "gmm_mod_neg.fit(train_3d_neg)\n",
    "\n",
    "pred = np.empty([dev_3d.shape[0],1])\n",
    "kaggle_submission = np.empty([dev_3d.shape[0],3])\n",
    "for i in range(0, len(dev_3d)):\n",
    "    record = dev_3d[i].reshape(1, -1)\n",
    "    if np.exp(gmm_mod_pos.score(record)) > np.exp(gmm_mod_neg.score(record)):\n",
    "        pred[i] = 1\n",
    "    else: \n",
    "        pred[i] = 0\n",
    "    \n",
    "# compute accuracy\n",
    "print (\"Accuracy with dev data = {:.3}\".format(np.mean(dev_labels == pred)) )"
   ]
  },
  {
   "cell_type": "markdown",
   "metadata": {},
   "source": [
    "## Evaluation\n",
    "\n",
    "From the above models, we have selected the XXX model.\n",
    "\n",
    "[Accuracy]\n",
    "[Other metrics of goodness]\n",
    "[AB test results?]"
   ]
  },
  {
   "cell_type": "markdown",
   "metadata": {},
   "source": [
    "## Deployment"
   ]
  },
  {
   "cell_type": "markdown",
   "metadata": {},
   "source": [
    "To deploy the model, the predicted probablities for the data missing 'shot_made_flag' are written to a CSV file. This file is uploaded to Kaggle and automatically scored."
   ]
  },
  {
   "cell_type": "code",
   "execution_count": null,
   "metadata": {},
   "outputs": [],
   "source": [
    "sample['shot_made_flag'] = kaggle_submission\n",
    "sample.to_csv(\"submission.csv\", index=False)"
   ]
  },
  {
   "cell_type": "markdown",
   "metadata": {},
   "source": [
    "Our final Kaggle score was XXX.\n",
    "\n",
    "[Screenshot]"
   ]
  }
 ],
 "metadata": {
  "kernelspec": {
   "display_name": "Python 3",
   "language": "python",
   "name": "python3"
  },
  "language_info": {
   "codemirror_mode": {
    "name": "ipython",
    "version": 3
   },
   "file_extension": ".py",
   "mimetype": "text/x-python",
   "name": "python",
   "nbconvert_exporter": "python",
   "pygments_lexer": "ipython3",
   "version": "3.6.4"
  }
 },
 "nbformat": 4,
 "nbformat_minor": 2
}
